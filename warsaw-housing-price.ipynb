{
 "cells": [
  {
   "cell_type": "markdown",
   "metadata": {},
   "source": [
    "# Installation and importation"
   ]
  },
  {
   "cell_type": "code",
   "execution_count": null,
   "metadata": {},
   "outputs": [],
   "source": [
    "#Installing librabries needed\n",
    "\n",
    "#!pip install beautifulsoup4\n",
    "#!pip install requests\n",
    "#!pip install pandas\n",
    "#!pip install plotly\n",
    "#!pip install matplotlib\n",
    "#!pip install seaborn\n",
    "#!pip install scikit-learn\n",
    "#!pip install nbformat\n",
    "#!pip install Jinja2\n",
    "#!pip install numpy\n",
    "#!pip install python-dotenv\n",
    "#!pip install lxml"
   ]
  },
  {
   "cell_type": "code",
   "execution_count": 1,
   "metadata": {},
   "outputs": [],
   "source": [
    "#Importing libraries\n",
    "\n",
    "import datetime\n",
    "import os\n",
    "from dotenv import load_dotenv, find_dotenv\n",
    "\n",
    "import requests\n",
    "from requests.structures import CaseInsensitiveDict\n",
    "from bs4 import BeautifulSoup\n",
    "\n",
    "import pandas as pd\n",
    "import numpy as np\n",
    "\n",
    "import plotly.express as px\n",
    "import matplotlib.pyplot as plt\n",
    "import seaborn as sns\n",
    "from plotly.subplots import make_subplots\n",
    "import plotly.graph_objects as go\n",
    "\n",
    "from sklearn import linear_model\n",
    "from sklearn.preprocessing import StandardScaler\n",
    "from sklearn.model_selection import train_test_split\n",
    "from sklearn.metrics import mean_squared_error, r2_score\n",
    "\n",
    "import re\n",
    "\n",
    "import tkinter as tk\n",
    "from tkinter import ttk"
   ]
  },
  {
   "cell_type": "markdown",
   "metadata": {},
   "source": [
    "# Usefull functions"
   ]
  },
  {
   "cell_type": "code",
   "execution_count": 2,
   "metadata": {},
   "outputs": [],
   "source": [
    "#Date of scraping\n",
    "\n",
    "def today_date():\n",
    "    date = datetime.date.today()\n",
    "    current_date = f'{date.day}/{date.month}/{date.year}'\n",
    "    return current_date"
   ]
  },
  {
   "cell_type": "code",
   "execution_count": 3,
   "metadata": {},
   "outputs": [],
   "source": [
    "#Deleting last element of a list and putting numbers back together. We have numbers as strings in the dataset, separated by space and with currency at the end\n",
    "\n",
    "def deleting_last_and_back_together(lst):\n",
    "    if len(lst) > 0:\n",
    "        elements = []\n",
    "        for elem in lst[:-1]:\n",
    "            elements.append(str(elem))\n",
    "        return ''.join(elements)\n",
    "    else:\n",
    "        return '' "
   ]
  },
  {
   "cell_type": "code",
   "execution_count": 4,
   "metadata": {},
   "outputs": [],
   "source": [
    "#Function used to saved the after adding todays (or other website) datas and saving it. We use it to created the database\n",
    "\n",
    "def dataset_updated (today_df):\n",
    "    # pd.DataFrame().to_csv('housing_price.csv)   Initialization for the first time \n",
    "    df = pd.read_csv('housing_price.csv')\n",
    "    df_to_save = pd.concat([df,today_df]).reset_index()\n",
    "    df_to_save.drop(columns=['index'], inplace = True)\n",
    "    df_to_save.to_csv('housing_price.csv', index = False)"
   ]
  },
  {
   "cell_type": "code",
   "execution_count": 5,
   "metadata": {},
   "outputs": [],
   "source": [
    "#Function to save the dataset cleaned and ready to be analysed (especially to use with Tableau)\n",
    "\n",
    "def dataset_cleaned(df__to_cleaned):\n",
    "    df__to_cleaned.to_csv('housing_price_cleaned.csv', index = False)"
   ]
  },
  {
   "cell_type": "code",
   "execution_count": 6,
   "metadata": {},
   "outputs": [],
   "source": [
    "#Function used for dataset : I need to look at the lenght of a list in a cell and keeping the ones where lenght is more than 2\n",
    "\n",
    "def lenth_of_list(mylist):\n",
    "    if len(mylist) > 2:\n",
    "        return mylist\n",
    "    else:\n",
    "        return '0'"
   ]
  },
  {
   "cell_type": "code",
   "execution_count": 7,
   "metadata": {},
   "outputs": [],
   "source": [
    "#In order to make sure we scrapp the good district, we need to get the list of them. We will same them into a csv file in case the website change. We will not necesarely need this function again\n",
    "\n",
    "def neighbourhood_of_warsaw():\n",
    "    neighb = pd.read_html('https://en.um.warszawa.pl/districts-of-warsaw?p_p_id=com_liferay_asset_publisher_web_portlet_AssetPublisherPortlet_INSTANCE_mNM61lpdMTMP&p_p_lifecycle=0&p_p_state=normal&p_p_mode=view&_com_liferay_asset_publisher_web_portlet_AssetPublisherPortlet_INSTANCE_mNM61lpdMTMP_f_sorting=22433423__22433428__field0__asc')\n",
    "    neighb = neighb[0]\n",
    "    neighb = neighb.drop(['Population (census) 20.05.2002 Sort data by column', 'Population (estimate) 31.12.2010 Sort data by column', 'Population (estimate) 31.12.2019 Sort data by column'], axis = 1)\n",
    "\n",
    "\n",
    "    neighb['Name Sort data by column'] = neighb['Name Sort data by column'].apply(lambda x : re.sub(r\"\\d+|\\W+|\\s+\", \" \", x).strip())\n",
    "    neighb['Name Sort data by column'] = neighb['Name Sort data by column'].str.split()\n",
    "    neighb['Name Sort data by column'] = neighb['Name Sort data by column'].apply(lambda x : x[1])\n",
    "    neighb = neighb.loc[neighb['Name Sort data by column'] != 'Warszawa']\n",
    "    neighb.to_csv('warsaw_neighbourhood.csv', index = False)\n",
    "    return neighb\n"
   ]
  },
  {
   "cell_type": "code",
   "execution_count": 8,
   "metadata": {},
   "outputs": [],
   "source": [
    "#This function has been used to get the coordinates of Warsaw neighbourhood and save them into a csv file\n",
    "\n",
    "def neighbourhoods_coordinates(neighbourhoods) :\n",
    "    location = {}\n",
    "\n",
    "    load_dotenv()\n",
    "    API_Key = os.getenv(\"API_Key\")\n",
    "\n",
    "    headers = CaseInsensitiveDict()\n",
    "    headers[\"Accept\"] = \"application/json\"\n",
    "\n",
    "    for neighbourhood in neighbourhoods:    \n",
    "        url = f\"https://api.geoapify.com/v1/geocode/search?text={neighbourhood}&format=json&apiKey={API_Key}\"\n",
    "        resp = requests.get(url, headers=headers)\n",
    "\n",
    "        lon = resp.json()['results'][0]['lon']\n",
    "        lat = resp.json()['results'][0]['lat']\n",
    "        \n",
    "        location[neighbourhood] = {'lon' : lon, 'lat' :lat}\n",
    "\n",
    "        df_location = pd.DataFrame(location)\n",
    "        df_location = df_location.T\n",
    "            \n",
    "        df_location.to_csv('gps_location_neighbourhood.csv')"
   ]
  },
  {
   "cell_type": "code",
   "execution_count": 9,
   "metadata": {},
   "outputs": [],
   "source": [
    "def outliers(dataset):\n",
    "\n",
    "    #Prices Ourtliers\n",
    "    Q1 = np.percentile(dataset['price'], 25)\n",
    "    Q3 = np.percentile(dataset['price'], 75)\n",
    "\n",
    "    IQR = Q3 - Q1\n",
    "\n",
    "    lower_bound = Q1 - 1.5 * IQR\n",
    "    upper_bound = Q3 + 1.5 * IQR\n",
    "    \n",
    "    dataset = dataset.loc[(dataset['price'] >= lower_bound) & (dataset['price'] <= upper_bound)].reset_index()\n",
    "    \n",
    "    #Size Ourtliers\n",
    "    Q1 = np.percentile(dataset['size'], 25)\n",
    "    Q3 = np.percentile(dataset['size'], 75)\n",
    "\n",
    "    IQR = Q3 - Q1\n",
    "\n",
    "    lower_bound = Q1 - 1.5 * IQR\n",
    "    upper_bound = Q3 + 1.5 * IQR\n",
    "    \n",
    "    dataset = dataset.loc[(dataset['size'] >= lower_bound) & (dataset['size'] <= upper_bound)].reset_index()\n",
    "    \n",
    "    dataset.drop(columns=['index', 'level_0'], inplace = True)\n",
    "    return dataset"
   ]
  },
  {
   "cell_type": "markdown",
   "metadata": {},
   "source": [
    "# Web scrapping"
   ]
  },
  {
   "cell_type": "markdown",
   "metadata": {},
   "source": [
    "## Scrapping initialization"
   ]
  },
  {
   "cell_type": "code",
   "execution_count": 10,
   "metadata": {},
   "outputs": [],
   "source": [
    "#Getting the responses from both websites\n",
    "\n",
    "def scrapping_initialization():\n",
    "    \n",
    "    url_domiporta = \"https://www.domiporta.pl/mieszkanie/sprzedam/mazowieckie/warszawa?Distance=10\"\n",
    "    response_domiporta = requests.get(url_domiporta)\n",
    "\n",
    "    url_morizon = \"https://www.morizon.pl/mieszkania/warszawa/\"\n",
    "    response_morizon = requests.get(url_morizon)\n",
    "\n",
    "    print(f'response from domiporta : {response_domiporta}')\n",
    "    print(f'response from morizon : {response_morizon}')\n",
    "    \n",
    "    return response_domiporta, response_morizon"
   ]
  },
  {
   "cell_type": "code",
   "execution_count": 11,
   "metadata": {},
   "outputs": [
    {
     "name": "stdout",
     "output_type": "stream",
     "text": [
      "response from domiporta : <Response [200]>\n",
      "response from morizon : <Response [200]>\n"
     ]
    }
   ],
   "source": [
    "scrapping_init = scrapping_initialization()"
   ]
  },
  {
   "cell_type": "markdown",
   "metadata": {},
   "source": [
    "## Scrapping domiporta website"
   ]
  },
  {
   "cell_type": "code",
   "execution_count": 12,
   "metadata": {},
   "outputs": [],
   "source": [
    "#Scrapping the fist website. Response as input of the function, and as output we get a cleaned dataset ready to be saved\n",
    "\n",
    "def scrapping_domiporta(response):\n",
    "    \n",
    "    #Scrapping the website:\n",
    "    soup_domiporta = BeautifulSoup(response.content)\n",
    "    \n",
    "    appartment_title_list = []\n",
    "    appartment_price_list = []\n",
    "    appartment_size_list = []\n",
    "    appartment_rooms_list = []\n",
    "    appartment_neigbourhood_list = []\n",
    "\n",
    "    components = soup_domiporta.find_all(class_ = 'sneakpeak__data')\n",
    "    for component in components:\n",
    "        appartment_title_list.append(component.find(class_ = 'sneakpeak__title--bold').get_text().strip())\n",
    "        appartment_price_list.append(component.find(class_ = 'sneakpeak__price_value').get_text().strip())\n",
    "        appartment_size_list.append(component.find(class_ = 'sneakpeak__details_item sneakpeak__details_item--area').get_text().strip())\n",
    "        appartment_neigbourhood_list.append(component.find(class_ = 'sneakpeak__title--inblock').get_text().strip())\n",
    "        try :\n",
    "            appartment_rooms_list.append(component.find(class_ = 'sneakpeak__details_item sneakpeak__details_item--room').get_text().strip())\n",
    "        except :\n",
    "            appartment_rooms_list.append('Undefined')\n",
    "          \n",
    "    #Creating the dataframe \n",
    "    df_domiporta_scraping = pd.DataFrame([appartment_title_list, appartment_price_list, appartment_size_list, appartment_rooms_list, appartment_neigbourhood_list]).T\n",
    "    df_domiporta_scraping.rename(columns = {0:'housing_type', 1:'price', 2:'size', 3:'rooms', 4:'neighbourhood'}, inplace = True)\n",
    "    df_domiporta_scraping['website'] = 'Domiporta'\n",
    "    df_domiporta_scraping['date'] = today_date()\n",
    "\n",
    "    #Cleaning and preparing housing_type\n",
    "    df_domiporta_scraping['housing_type'] = df_domiporta_scraping['housing_type'].apply(lambda x : x.split(' ')[0])\n",
    "    \n",
    "    #Cleaning and preparing price. We drop the row where we do not have the price. It would be intersting the keep them and see their location or size, but this will not answer our problem\n",
    "    df_domiporta_scraping = df_domiporta_scraping.loc[df_domiporta_scraping['price'] != 'Zapytaj o cenę'].reset_index()\n",
    "    df_domiporta_scraping['price'] = df_domiporta_scraping['price'].apply(lambda x : x.replace(u'\\xa0', u' ').split(' '))\n",
    "    df_domiporta_scraping['price'] = df_domiporta_scraping['price'].apply(deleting_last_and_back_together)\n",
    "    df_domiporta_scraping['price'] = df_domiporta_scraping['price'].apply(lambda x : int(x))\n",
    "\n",
    "    #Cleaning and preparing size\n",
    "    df_domiporta_scraping['size'] = df_domiporta_scraping['size'].apply(lambda x : str(x.replace(u'\\xa0', u' ')).split(' ')[0])\n",
    "    df_domiporta_scraping['size'] = df_domiporta_scraping['size'].apply(lambda x : x.replace(',', '.'))\n",
    "    df_domiporta_scraping['size'] = df_domiporta_scraping['size'].apply(lambda x : float(x))\n",
    "    \n",
    "    #Cleaning and preparing rooms\n",
    "    df_domiporta_scraping['rooms'] = df_domiporta_scraping['rooms'].apply(lambda x : int(x) if x != 'Undefined' else 0)\n",
    "\n",
    "    #Cleaning and preparing neigbourhood\n",
    "    df_domiporta_scraping['neighbourhood'] = df_domiporta_scraping['neighbourhood'].apply(lambda x : re.sub(r\"\\d+|\\W+|\\s+\", \" \", x).strip())\n",
    "    df_domiporta_scraping['neighbourhood'] = df_domiporta_scraping['neighbourhood'].str.split()\n",
    "    df_domiporta_scraping['neighbourhood'] = df_domiporta_scraping['neighbourhood'].apply(lenth_of_list)\n",
    "    df_domiporta_scraping = df_domiporta_scraping.loc[df_domiporta_scraping['neighbourhood'] != '0']\n",
    "    df_domiporta_scraping['neighbourhood'] = df_domiporta_scraping['neighbourhood'].apply(lambda x : x[2])\n",
    "\n",
    "    #Creating price_per_sq\n",
    "    df_domiporta_scraping['price_per_sq'] = round(df_domiporta_scraping['price'] / df_domiporta_scraping['size'] , 2)\n",
    "\n",
    "    #Reordering/deleting columns to make it standar and more readable\n",
    "    columns_order = ['housing_type', 'price', 'size', 'price_per_sq', 'rooms', 'neighbourhood', 'website', 'date']\n",
    "    df_domiporta_scraping.drop(columns=['index'], inplace = True)\n",
    "    df_domiporta_scraping = df_domiporta_scraping[columns_order]\n",
    "    \n",
    "    return df_domiporta_scraping"
   ]
  },
  {
   "cell_type": "markdown",
   "metadata": {},
   "source": [
    "Important note : We only scrap the first page as the intention is the see the price change over day"
   ]
  },
  {
   "cell_type": "code",
   "execution_count": 13,
   "metadata": {},
   "outputs": [],
   "source": [
    "df_domiporta_scraping = scrapping_domiporta(scrapping_init[0])"
   ]
  },
  {
   "cell_type": "code",
   "execution_count": 14,
   "metadata": {},
   "outputs": [
    {
     "data": {
      "text/html": [
       "<div>\n",
       "<style scoped>\n",
       "    .dataframe tbody tr th:only-of-type {\n",
       "        vertical-align: middle;\n",
       "    }\n",
       "\n",
       "    .dataframe tbody tr th {\n",
       "        vertical-align: top;\n",
       "    }\n",
       "\n",
       "    .dataframe thead th {\n",
       "        text-align: right;\n",
       "    }\n",
       "</style>\n",
       "<table border=\"1\" class=\"dataframe\">\n",
       "  <thead>\n",
       "    <tr style=\"text-align: right;\">\n",
       "      <th></th>\n",
       "      <th>housing_type</th>\n",
       "      <th>price</th>\n",
       "      <th>size</th>\n",
       "      <th>price_per_sq</th>\n",
       "      <th>rooms</th>\n",
       "      <th>neighbourhood</th>\n",
       "      <th>website</th>\n",
       "      <th>date</th>\n",
       "    </tr>\n",
       "  </thead>\n",
       "  <tbody>\n",
       "    <tr>\n",
       "      <th>0</th>\n",
       "      <td>mieszkanie</td>\n",
       "      <td>800000</td>\n",
       "      <td>49.98</td>\n",
       "      <td>16006.40</td>\n",
       "      <td>2</td>\n",
       "      <td>Praga</td>\n",
       "      <td>Domiporta</td>\n",
       "      <td>9/11/2023</td>\n",
       "    </tr>\n",
       "    <tr>\n",
       "      <th>1</th>\n",
       "      <td>mieszkanie</td>\n",
       "      <td>730000</td>\n",
       "      <td>62.00</td>\n",
       "      <td>11774.19</td>\n",
       "      <td>3</td>\n",
       "      <td>Praga</td>\n",
       "      <td>Domiporta</td>\n",
       "      <td>9/11/2023</td>\n",
       "    </tr>\n",
       "    <tr>\n",
       "      <th>2</th>\n",
       "      <td>mieszkanie</td>\n",
       "      <td>819000</td>\n",
       "      <td>83.75</td>\n",
       "      <td>9779.10</td>\n",
       "      <td>4</td>\n",
       "      <td>Rembertów</td>\n",
       "      <td>Domiporta</td>\n",
       "      <td>9/11/2023</td>\n",
       "    </tr>\n",
       "    <tr>\n",
       "      <th>3</th>\n",
       "      <td>mieszkanie</td>\n",
       "      <td>678600</td>\n",
       "      <td>39.00</td>\n",
       "      <td>17400.00</td>\n",
       "      <td>2</td>\n",
       "      <td>Mokotów</td>\n",
       "      <td>Domiporta</td>\n",
       "      <td>9/11/2023</td>\n",
       "    </tr>\n",
       "    <tr>\n",
       "      <th>4</th>\n",
       "      <td>mieszkanie</td>\n",
       "      <td>799000</td>\n",
       "      <td>52.10</td>\n",
       "      <td>15335.89</td>\n",
       "      <td>2</td>\n",
       "      <td>Ochota</td>\n",
       "      <td>Domiporta</td>\n",
       "      <td>9/11/2023</td>\n",
       "    </tr>\n",
       "    <tr>\n",
       "      <th>5</th>\n",
       "      <td>mieszkanie</td>\n",
       "      <td>500000</td>\n",
       "      <td>28.00</td>\n",
       "      <td>17857.14</td>\n",
       "      <td>1</td>\n",
       "      <td>Mokotów</td>\n",
       "      <td>Domiporta</td>\n",
       "      <td>9/11/2023</td>\n",
       "    </tr>\n",
       "    <tr>\n",
       "      <th>6</th>\n",
       "      <td>mieszkanie</td>\n",
       "      <td>1397000</td>\n",
       "      <td>104.00</td>\n",
       "      <td>13432.69</td>\n",
       "      <td>6</td>\n",
       "      <td>Ursynów</td>\n",
       "      <td>Domiporta</td>\n",
       "      <td>9/11/2023</td>\n",
       "    </tr>\n",
       "    <tr>\n",
       "      <th>7</th>\n",
       "      <td>mieszkanie</td>\n",
       "      <td>1200000</td>\n",
       "      <td>112.58</td>\n",
       "      <td>10659.09</td>\n",
       "      <td>4</td>\n",
       "      <td>Zimna</td>\n",
       "      <td>Domiporta</td>\n",
       "      <td>9/11/2023</td>\n",
       "    </tr>\n",
       "    <tr>\n",
       "      <th>8</th>\n",
       "      <td>mieszkanie</td>\n",
       "      <td>545000</td>\n",
       "      <td>21.00</td>\n",
       "      <td>25952.38</td>\n",
       "      <td>1</td>\n",
       "      <td>Wola</td>\n",
       "      <td>Domiporta</td>\n",
       "      <td>9/11/2023</td>\n",
       "    </tr>\n",
       "    <tr>\n",
       "      <th>9</th>\n",
       "      <td>mieszkanie</td>\n",
       "      <td>750000</td>\n",
       "      <td>37.00</td>\n",
       "      <td>20270.27</td>\n",
       "      <td>2</td>\n",
       "      <td>Mokotów</td>\n",
       "      <td>Domiporta</td>\n",
       "      <td>9/11/2023</td>\n",
       "    </tr>\n",
       "    <tr>\n",
       "      <th>10</th>\n",
       "      <td>mieszkanie</td>\n",
       "      <td>720000</td>\n",
       "      <td>38.62</td>\n",
       "      <td>18643.19</td>\n",
       "      <td>2</td>\n",
       "      <td>Wola</td>\n",
       "      <td>Domiporta</td>\n",
       "      <td>9/11/2023</td>\n",
       "    </tr>\n",
       "    <tr>\n",
       "      <th>11</th>\n",
       "      <td>mieszkanie</td>\n",
       "      <td>1100000</td>\n",
       "      <td>56.70</td>\n",
       "      <td>19400.35</td>\n",
       "      <td>2</td>\n",
       "      <td>Mokotów</td>\n",
       "      <td>Domiporta</td>\n",
       "      <td>9/11/2023</td>\n",
       "    </tr>\n",
       "    <tr>\n",
       "      <th>12</th>\n",
       "      <td>mieszkanie</td>\n",
       "      <td>830000</td>\n",
       "      <td>40.75</td>\n",
       "      <td>20368.10</td>\n",
       "      <td>2</td>\n",
       "      <td>Mokotów</td>\n",
       "      <td>Domiporta</td>\n",
       "      <td>9/11/2023</td>\n",
       "    </tr>\n",
       "    <tr>\n",
       "      <th>13</th>\n",
       "      <td>mieszkanie</td>\n",
       "      <td>855000</td>\n",
       "      <td>42.92</td>\n",
       "      <td>19920.78</td>\n",
       "      <td>2</td>\n",
       "      <td>Mokotów</td>\n",
       "      <td>Domiporta</td>\n",
       "      <td>9/11/2023</td>\n",
       "    </tr>\n",
       "    <tr>\n",
       "      <th>14</th>\n",
       "      <td>mieszkanie</td>\n",
       "      <td>1250000</td>\n",
       "      <td>100.10</td>\n",
       "      <td>12487.51</td>\n",
       "      <td>4</td>\n",
       "      <td>Ursynów</td>\n",
       "      <td>Domiporta</td>\n",
       "      <td>9/11/2023</td>\n",
       "    </tr>\n",
       "    <tr>\n",
       "      <th>15</th>\n",
       "      <td>mieszkanie</td>\n",
       "      <td>719000</td>\n",
       "      <td>39.00</td>\n",
       "      <td>18435.90</td>\n",
       "      <td>2</td>\n",
       "      <td>Śródmieście</td>\n",
       "      <td>Domiporta</td>\n",
       "      <td>9/11/2023</td>\n",
       "    </tr>\n",
       "    <tr>\n",
       "      <th>16</th>\n",
       "      <td>mieszkanie</td>\n",
       "      <td>750000</td>\n",
       "      <td>35.00</td>\n",
       "      <td>21428.57</td>\n",
       "      <td>2</td>\n",
       "      <td>Śródmieście</td>\n",
       "      <td>Domiporta</td>\n",
       "      <td>9/11/2023</td>\n",
       "    </tr>\n",
       "    <tr>\n",
       "      <th>17</th>\n",
       "      <td>mieszkanie</td>\n",
       "      <td>720000</td>\n",
       "      <td>36.00</td>\n",
       "      <td>20000.00</td>\n",
       "      <td>2</td>\n",
       "      <td>Śródmieście</td>\n",
       "      <td>Domiporta</td>\n",
       "      <td>9/11/2023</td>\n",
       "    </tr>\n",
       "    <tr>\n",
       "      <th>18</th>\n",
       "      <td>mieszkanie</td>\n",
       "      <td>820000</td>\n",
       "      <td>56.60</td>\n",
       "      <td>14487.63</td>\n",
       "      <td>3</td>\n",
       "      <td>Praga</td>\n",
       "      <td>Domiporta</td>\n",
       "      <td>9/11/2023</td>\n",
       "    </tr>\n",
       "    <tr>\n",
       "      <th>19</th>\n",
       "      <td>mieszkanie</td>\n",
       "      <td>650000</td>\n",
       "      <td>46.50</td>\n",
       "      <td>13978.49</td>\n",
       "      <td>2</td>\n",
       "      <td>Wilanów</td>\n",
       "      <td>Domiporta</td>\n",
       "      <td>9/11/2023</td>\n",
       "    </tr>\n",
       "    <tr>\n",
       "      <th>20</th>\n",
       "      <td>mieszkanie</td>\n",
       "      <td>1200000</td>\n",
       "      <td>40.00</td>\n",
       "      <td>30000.00</td>\n",
       "      <td>2</td>\n",
       "      <td>Śródmieście</td>\n",
       "      <td>Domiporta</td>\n",
       "      <td>9/11/2023</td>\n",
       "    </tr>\n",
       "    <tr>\n",
       "      <th>21</th>\n",
       "      <td>mieszkanie</td>\n",
       "      <td>915000</td>\n",
       "      <td>55.50</td>\n",
       "      <td>16486.49</td>\n",
       "      <td>2</td>\n",
       "      <td>Ochota</td>\n",
       "      <td>Domiporta</td>\n",
       "      <td>9/11/2023</td>\n",
       "    </tr>\n",
       "    <tr>\n",
       "      <th>22</th>\n",
       "      <td>mieszkanie</td>\n",
       "      <td>850000</td>\n",
       "      <td>50.00</td>\n",
       "      <td>17000.00</td>\n",
       "      <td>2</td>\n",
       "      <td>Śródmieście</td>\n",
       "      <td>Domiporta</td>\n",
       "      <td>9/11/2023</td>\n",
       "    </tr>\n",
       "    <tr>\n",
       "      <th>23</th>\n",
       "      <td>mieszkanie</td>\n",
       "      <td>1500000</td>\n",
       "      <td>95.70</td>\n",
       "      <td>15673.98</td>\n",
       "      <td>4</td>\n",
       "      <td>Ochota</td>\n",
       "      <td>Domiporta</td>\n",
       "      <td>9/11/2023</td>\n",
       "    </tr>\n",
       "    <tr>\n",
       "      <th>24</th>\n",
       "      <td>mieszkanie</td>\n",
       "      <td>1420000</td>\n",
       "      <td>91.00</td>\n",
       "      <td>15604.40</td>\n",
       "      <td>3</td>\n",
       "      <td>Mokotów</td>\n",
       "      <td>Domiporta</td>\n",
       "      <td>9/11/2023</td>\n",
       "    </tr>\n",
       "    <tr>\n",
       "      <th>25</th>\n",
       "      <td>mieszkanie</td>\n",
       "      <td>794200</td>\n",
       "      <td>36.10</td>\n",
       "      <td>22000.00</td>\n",
       "      <td>2</td>\n",
       "      <td>Wola</td>\n",
       "      <td>Domiporta</td>\n",
       "      <td>9/11/2023</td>\n",
       "    </tr>\n",
       "    <tr>\n",
       "      <th>26</th>\n",
       "      <td>mieszkanie</td>\n",
       "      <td>1324610</td>\n",
       "      <td>88.90</td>\n",
       "      <td>14900.00</td>\n",
       "      <td>4</td>\n",
       "      <td>Ochota</td>\n",
       "      <td>Domiporta</td>\n",
       "      <td>9/11/2023</td>\n",
       "    </tr>\n",
       "    <tr>\n",
       "      <th>27</th>\n",
       "      <td>mieszkanie</td>\n",
       "      <td>1953000</td>\n",
       "      <td>60.17</td>\n",
       "      <td>32458.04</td>\n",
       "      <td>2</td>\n",
       "      <td>Śródmieście</td>\n",
       "      <td>Domiporta</td>\n",
       "      <td>9/11/2023</td>\n",
       "    </tr>\n",
       "    <tr>\n",
       "      <th>28</th>\n",
       "      <td>mieszkanie</td>\n",
       "      <td>830000</td>\n",
       "      <td>42.40</td>\n",
       "      <td>19575.47</td>\n",
       "      <td>1</td>\n",
       "      <td>Śródmieście</td>\n",
       "      <td>Domiporta</td>\n",
       "      <td>9/11/2023</td>\n",
       "    </tr>\n",
       "    <tr>\n",
       "      <th>29</th>\n",
       "      <td>mieszkanie</td>\n",
       "      <td>330000</td>\n",
       "      <td>36.00</td>\n",
       "      <td>9166.67</td>\n",
       "      <td>2</td>\n",
       "      <td>Ołówkowa</td>\n",
       "      <td>Domiporta</td>\n",
       "      <td>9/11/2023</td>\n",
       "    </tr>\n",
       "    <tr>\n",
       "      <th>30</th>\n",
       "      <td>mieszkanie</td>\n",
       "      <td>690000</td>\n",
       "      <td>77.00</td>\n",
       "      <td>8961.04</td>\n",
       "      <td>3</td>\n",
       "      <td>Wawer</td>\n",
       "      <td>Domiporta</td>\n",
       "      <td>9/11/2023</td>\n",
       "    </tr>\n",
       "    <tr>\n",
       "      <th>31</th>\n",
       "      <td>mieszkanie</td>\n",
       "      <td>730000</td>\n",
       "      <td>56.00</td>\n",
       "      <td>13035.71</td>\n",
       "      <td>3</td>\n",
       "      <td>Żoliborz</td>\n",
       "      <td>Domiporta</td>\n",
       "      <td>9/11/2023</td>\n",
       "    </tr>\n",
       "    <tr>\n",
       "      <th>32</th>\n",
       "      <td>mieszkanie</td>\n",
       "      <td>520000</td>\n",
       "      <td>40.74</td>\n",
       "      <td>12763.87</td>\n",
       "      <td>2</td>\n",
       "      <td>Włochy</td>\n",
       "      <td>Domiporta</td>\n",
       "      <td>9/11/2023</td>\n",
       "    </tr>\n",
       "    <tr>\n",
       "      <th>33</th>\n",
       "      <td>mieszkanie</td>\n",
       "      <td>1240000</td>\n",
       "      <td>53.00</td>\n",
       "      <td>23396.23</td>\n",
       "      <td>3</td>\n",
       "      <td>Wilanów</td>\n",
       "      <td>Domiporta</td>\n",
       "      <td>9/11/2023</td>\n",
       "    </tr>\n",
       "    <tr>\n",
       "      <th>34</th>\n",
       "      <td>mieszkanie</td>\n",
       "      <td>799000</td>\n",
       "      <td>55.75</td>\n",
       "      <td>14331.84</td>\n",
       "      <td>2</td>\n",
       "      <td>Mokotów</td>\n",
       "      <td>Domiporta</td>\n",
       "      <td>9/11/2023</td>\n",
       "    </tr>\n",
       "    <tr>\n",
       "      <th>35</th>\n",
       "      <td>mieszkanie</td>\n",
       "      <td>720000</td>\n",
       "      <td>60.00</td>\n",
       "      <td>12000.00</td>\n",
       "      <td>3</td>\n",
       "      <td>Praga</td>\n",
       "      <td>Domiporta</td>\n",
       "      <td>9/11/2023</td>\n",
       "    </tr>\n",
       "    <tr>\n",
       "      <th>36</th>\n",
       "      <td>mieszkanie</td>\n",
       "      <td>800000</td>\n",
       "      <td>49.98</td>\n",
       "      <td>16006.40</td>\n",
       "      <td>2</td>\n",
       "      <td>Praga</td>\n",
       "      <td>Domiporta</td>\n",
       "      <td>9/11/2023</td>\n",
       "    </tr>\n",
       "    <tr>\n",
       "      <th>37</th>\n",
       "      <td>mieszkanie</td>\n",
       "      <td>730000</td>\n",
       "      <td>62.00</td>\n",
       "      <td>11774.19</td>\n",
       "      <td>3</td>\n",
       "      <td>Praga</td>\n",
       "      <td>Domiporta</td>\n",
       "      <td>9/11/2023</td>\n",
       "    </tr>\n",
       "    <tr>\n",
       "      <th>38</th>\n",
       "      <td>mieszkanie</td>\n",
       "      <td>819000</td>\n",
       "      <td>83.75</td>\n",
       "      <td>9779.10</td>\n",
       "      <td>4</td>\n",
       "      <td>Rembertów</td>\n",
       "      <td>Domiporta</td>\n",
       "      <td>9/11/2023</td>\n",
       "    </tr>\n",
       "    <tr>\n",
       "      <th>39</th>\n",
       "      <td>mieszkanie</td>\n",
       "      <td>678600</td>\n",
       "      <td>39.00</td>\n",
       "      <td>17400.00</td>\n",
       "      <td>2</td>\n",
       "      <td>Mokotów</td>\n",
       "      <td>Domiporta</td>\n",
       "      <td>9/11/2023</td>\n",
       "    </tr>\n",
       "    <tr>\n",
       "      <th>40</th>\n",
       "      <td>mieszkanie</td>\n",
       "      <td>799000</td>\n",
       "      <td>52.10</td>\n",
       "      <td>15335.89</td>\n",
       "      <td>2</td>\n",
       "      <td>Ochota</td>\n",
       "      <td>Domiporta</td>\n",
       "      <td>9/11/2023</td>\n",
       "    </tr>\n",
       "  </tbody>\n",
       "</table>\n",
       "</div>"
      ],
      "text/plain": [
       "   housing_type    price    size  price_per_sq  rooms neighbourhood  \\\n",
       "0    mieszkanie   800000   49.98      16006.40      2         Praga   \n",
       "1    mieszkanie   730000   62.00      11774.19      3         Praga   \n",
       "2    mieszkanie   819000   83.75       9779.10      4     Rembertów   \n",
       "3    mieszkanie   678600   39.00      17400.00      2       Mokotów   \n",
       "4    mieszkanie   799000   52.10      15335.89      2        Ochota   \n",
       "5    mieszkanie   500000   28.00      17857.14      1       Mokotów   \n",
       "6    mieszkanie  1397000  104.00      13432.69      6       Ursynów   \n",
       "7    mieszkanie  1200000  112.58      10659.09      4         Zimna   \n",
       "8    mieszkanie   545000   21.00      25952.38      1          Wola   \n",
       "9    mieszkanie   750000   37.00      20270.27      2       Mokotów   \n",
       "10   mieszkanie   720000   38.62      18643.19      2          Wola   \n",
       "11   mieszkanie  1100000   56.70      19400.35      2       Mokotów   \n",
       "12   mieszkanie   830000   40.75      20368.10      2       Mokotów   \n",
       "13   mieszkanie   855000   42.92      19920.78      2       Mokotów   \n",
       "14   mieszkanie  1250000  100.10      12487.51      4       Ursynów   \n",
       "15   mieszkanie   719000   39.00      18435.90      2   Śródmieście   \n",
       "16   mieszkanie   750000   35.00      21428.57      2   Śródmieście   \n",
       "17   mieszkanie   720000   36.00      20000.00      2   Śródmieście   \n",
       "18   mieszkanie   820000   56.60      14487.63      3         Praga   \n",
       "19   mieszkanie   650000   46.50      13978.49      2       Wilanów   \n",
       "20   mieszkanie  1200000   40.00      30000.00      2   Śródmieście   \n",
       "21   mieszkanie   915000   55.50      16486.49      2        Ochota   \n",
       "22   mieszkanie   850000   50.00      17000.00      2   Śródmieście   \n",
       "23   mieszkanie  1500000   95.70      15673.98      4        Ochota   \n",
       "24   mieszkanie  1420000   91.00      15604.40      3       Mokotów   \n",
       "25   mieszkanie   794200   36.10      22000.00      2          Wola   \n",
       "26   mieszkanie  1324610   88.90      14900.00      4        Ochota   \n",
       "27   mieszkanie  1953000   60.17      32458.04      2   Śródmieście   \n",
       "28   mieszkanie   830000   42.40      19575.47      1   Śródmieście   \n",
       "29   mieszkanie   330000   36.00       9166.67      2      Ołówkowa   \n",
       "30   mieszkanie   690000   77.00       8961.04      3         Wawer   \n",
       "31   mieszkanie   730000   56.00      13035.71      3      Żoliborz   \n",
       "32   mieszkanie   520000   40.74      12763.87      2        Włochy   \n",
       "33   mieszkanie  1240000   53.00      23396.23      3       Wilanów   \n",
       "34   mieszkanie   799000   55.75      14331.84      2       Mokotów   \n",
       "35   mieszkanie   720000   60.00      12000.00      3         Praga   \n",
       "36   mieszkanie   800000   49.98      16006.40      2         Praga   \n",
       "37   mieszkanie   730000   62.00      11774.19      3         Praga   \n",
       "38   mieszkanie   819000   83.75       9779.10      4     Rembertów   \n",
       "39   mieszkanie   678600   39.00      17400.00      2       Mokotów   \n",
       "40   mieszkanie   799000   52.10      15335.89      2        Ochota   \n",
       "\n",
       "      website       date  \n",
       "0   Domiporta  9/11/2023  \n",
       "1   Domiporta  9/11/2023  \n",
       "2   Domiporta  9/11/2023  \n",
       "3   Domiporta  9/11/2023  \n",
       "4   Domiporta  9/11/2023  \n",
       "5   Domiporta  9/11/2023  \n",
       "6   Domiporta  9/11/2023  \n",
       "7   Domiporta  9/11/2023  \n",
       "8   Domiporta  9/11/2023  \n",
       "9   Domiporta  9/11/2023  \n",
       "10  Domiporta  9/11/2023  \n",
       "11  Domiporta  9/11/2023  \n",
       "12  Domiporta  9/11/2023  \n",
       "13  Domiporta  9/11/2023  \n",
       "14  Domiporta  9/11/2023  \n",
       "15  Domiporta  9/11/2023  \n",
       "16  Domiporta  9/11/2023  \n",
       "17  Domiporta  9/11/2023  \n",
       "18  Domiporta  9/11/2023  \n",
       "19  Domiporta  9/11/2023  \n",
       "20  Domiporta  9/11/2023  \n",
       "21  Domiporta  9/11/2023  \n",
       "22  Domiporta  9/11/2023  \n",
       "23  Domiporta  9/11/2023  \n",
       "24  Domiporta  9/11/2023  \n",
       "25  Domiporta  9/11/2023  \n",
       "26  Domiporta  9/11/2023  \n",
       "27  Domiporta  9/11/2023  \n",
       "28  Domiporta  9/11/2023  \n",
       "29  Domiporta  9/11/2023  \n",
       "30  Domiporta  9/11/2023  \n",
       "31  Domiporta  9/11/2023  \n",
       "32  Domiporta  9/11/2023  \n",
       "33  Domiporta  9/11/2023  \n",
       "34  Domiporta  9/11/2023  \n",
       "35  Domiporta  9/11/2023  \n",
       "36  Domiporta  9/11/2023  \n",
       "37  Domiporta  9/11/2023  \n",
       "38  Domiporta  9/11/2023  \n",
       "39  Domiporta  9/11/2023  \n",
       "40  Domiporta  9/11/2023  "
      ]
     },
     "execution_count": 14,
     "metadata": {},
     "output_type": "execute_result"
    }
   ],
   "source": [
    "df_domiporta_scraping"
   ]
  },
  {
   "cell_type": "code",
   "execution_count": 15,
   "metadata": {},
   "outputs": [],
   "source": [
    "dataset_updated(df_domiporta_scraping)"
   ]
  },
  {
   "cell_type": "markdown",
   "metadata": {},
   "source": [
    "## Scrapping morizon website"
   ]
  },
  {
   "cell_type": "code",
   "execution_count": 16,
   "metadata": {},
   "outputs": [],
   "source": [
    "#Scrapping the second website. Response as input of the function, and as output we get a cleaned dataset ready to be saved\n",
    "\n",
    "def scrapping_morizon(response):\n",
    "    \n",
    "    #Scrapping the website:    \n",
    "    soup_morizon = BeautifulSoup(response.content)\n",
    "    \n",
    "    appartment_title_list = []\n",
    "    appartment_price_list = []\n",
    "    appartment_size_list = []\n",
    "    appartment_price_per_sq_list = []\n",
    "    appartment_rooms_list = []\n",
    "    appartment_neigbourhood_list = []\n",
    "\n",
    "    components = soup_morizon.find_all(class_ = 'QABBtF')\n",
    "    for component in components:\n",
    "        appartment_title_list.append(component.find(class_ = 'b0Zyng').get_text())\n",
    "        appartment_price_list.append(component.find(class_ = 'fallNp').get_text())\n",
    "        appartment_price_per_sq_list.append(component.find(class_ = 'ahEpiL').get_text())\n",
    "        appartment_size_list.append(component.find(class_ = 'property-info').get_text())\n",
    "        appartment_rooms_list.append(component.find(class_ = 'property-info').get_text())\n",
    "        appartment_neigbourhood_list.append(component.find(class_ = 'bBWWSg').get_text())\n",
    "    \n",
    "    #Creating the dataframe\n",
    "    df_morizon_scraping = pd.DataFrame([appartment_title_list, appartment_price_list, appartment_size_list, appartment_price_per_sq_list, appartment_rooms_list, appartment_neigbourhood_list]).T\n",
    "    df_morizon_scraping.rename(columns = {0:'housing_type', 1:'price', 2:'size', 3:'price_per_sq', 4:'rooms', 5:'neighbourhood'}, inplace = True)\n",
    "    df_morizon_scraping['website'] = 'Morizon'\n",
    "    df_morizon_scraping['date'] = today_date()\n",
    "  \n",
    "    #Cleaning and preparing housing_type\n",
    "    df_morizon_scraping['housing_type'] = df_morizon_scraping['housing_type'].apply(lambda x : x.split(' ')[0])\n",
    "\n",
    "    #Cleaning and preparing price. We drop the row where we do not have the price. It would be intersting the keep them and see their location or size, but this will not answer our problem\n",
    "    df_morizon_scraping = df_morizon_scraping.loc[df_morizon_scraping['price'] != ' Zapytaj o cenę '].reset_index()\n",
    "    df_morizon_scraping['price'] = df_morizon_scraping['price'].apply(lambda x : x.split(' '))\n",
    "    df_morizon_scraping['price'] = df_morizon_scraping['price'].apply(deleting_last_and_back_together)\n",
    "    df_morizon_scraping['price'] = df_morizon_scraping['price'].apply(lambda x : int(x))\n",
    "    \n",
    "    #Cleaning and preparing size\n",
    "    df_morizon_scraping['size'] = df_morizon_scraping['size'].apply(lambda x : x.split('•')[0].split(' ')[0])\n",
    "    df_morizon_scraping['size'] = df_morizon_scraping['size'].apply(lambda x : float(x))\n",
    "\n",
    "    #Cleaning and preparing price_per_sq\n",
    "    df_morizon_scraping['price_per_sq'] = df_morizon_scraping['price_per_sq'].apply(lambda x : x.strip().split(' '))\n",
    "    df_morizon_scraping['price_per_sq'] = df_morizon_scraping['price_per_sq'].apply(deleting_last_and_back_together)\n",
    "    df_morizon_scraping['price_per_sq'] = df_morizon_scraping['price_per_sq'].apply(lambda x : float(x))\n",
    "\n",
    "    #Cleaning and preparing rooms\n",
    "    df_morizon_scraping['rooms'] = df_morizon_scraping['rooms'].apply(lambda x : x.split('•')[1].split(' ')[0])\n",
    "    df_morizon_scraping['rooms'] = df_morizon_scraping['rooms'].apply(lambda x : int(x))\n",
    "    \n",
    "    #Cleaning and preparing neigbourhood\n",
    "    df_morizon_scraping['neighbourhood'] = df_morizon_scraping['neighbourhood'].apply(lambda x : x.split('•')[1].strip())\n",
    "\n",
    "    #Reordering/deleting columns to make it standar and more readable\n",
    "    columns_order = ['housing_type', 'price', 'size', 'price_per_sq', 'rooms', 'neighbourhood', 'website', 'date']\n",
    "    df_morizon_scraping.drop(columns=['index'], inplace = True)\n",
    "    df_morizon_scraping = df_morizon_scraping[columns_order]\n",
    "    \n",
    "    return df_morizon_scraping\n"
   ]
  },
  {
   "cell_type": "code",
   "execution_count": 17,
   "metadata": {},
   "outputs": [],
   "source": [
    "df_morizon_scraping = scrapping_morizon(scrapping_init[1])"
   ]
  },
  {
   "cell_type": "code",
   "execution_count": 18,
   "metadata": {},
   "outputs": [],
   "source": [
    "dataset_updated(df_morizon_scraping)"
   ]
  },
  {
   "cell_type": "markdown",
   "metadata": {},
   "source": [
    "# Data analysis"
   ]
  },
  {
   "cell_type": "markdown",
   "metadata": {},
   "source": [
    "Now we want to do more cleaning on data :\n",
    "    1. Dropping everyduplicate (per websites). We could keep them, and see overtime if the price of a flat change, but I am not sure about being able to identify the flat again if the price change du to a lack of features\n",
    "    2. Dropping rowa where rooms are 0. The dataset will get big enough to not considere them\n",
    "    3. Contuing cleaning neighbourhood. Sometime the streets is mentionned, not the neighbourghood\n",
    "\n",
    "Following this, what do we want :\n",
    "    1. Mean price per neighbourhood : Tableau \n",
    "    2. Mean price per neighbourhood per rooms : Tableau\n",
    "    3. Mean price per neighbourhood per size : Tableau\n",
    "    4. Comparing 1, 2, 3 above per websites : Tableau\n",
    "    6. Predicting the price of an appartment\n",
    "    7. Telling the user if the price of the flat he is looking is overprice or not based on his inputs : neighbourhood, price, size, rooms"
   ]
  },
  {
   "cell_type": "markdown",
   "metadata": {},
   "source": [
    "## Initialization"
   ]
  },
  {
   "cell_type": "code",
   "execution_count": 19,
   "metadata": {},
   "outputs": [],
   "source": [
    "neighbourhoods = pd.read_csv('warsaw_neighbourhood.csv')\n",
    "neighbourhoods = list(neighbourhoods['Name Sort data by column'])"
   ]
  },
  {
   "cell_type": "code",
   "execution_count": 20,
   "metadata": {},
   "outputs": [],
   "source": [
    "#This function open the row dataset and clean it before returning it ready to perform analysis on it\n",
    "\n",
    "def opening_and_cleaning():\n",
    "    \n",
    "    df = pd.read_csv('housing_price.csv')\n",
    "    neighbourhoods = pd.read_csv('warsaw_neighbourhood.csv')\n",
    "    neighbourhoods = list(neighbourhoods['Name Sort data by column'])\n",
    "    \n",
    "    #Dropping duplicates when looking at price, size, rooms and neighbourhood. As scappring are close to each other i date, we might get the appartement multiple time. if we get the same value for these 4 features, we will considere it is the same flat\n",
    "    df.drop_duplicates(subset = ['price', 'size', 'rooms', 'neighbourhood'], inplace = True)\n",
    "    \n",
    "    #I have noticed that when scrapping, sometime 'street' (ul) is mentionned instead of the neighbourhood. We could use a Google maps API to find where the street is, but due to the amount of time available, we will focus on analysis\n",
    "    df = df[df['neighbourhood'].str.match(r'^\\w+$')]\n",
    "    df = df.loc[df['neighbourhood'] != 'ul']\n",
    "    \n",
    "    #I also noticed that sometimes I got the name of a street. With more time, I could use a location API to find the neighbourhood, but not on this project\n",
    "    #I can't directly filter on my dataset with the list of neighbourhoods. I am creating a list of all the dataset filtered by neighbourhood and them concatenate them\n",
    "    df_by_neighbourhood = []\n",
    "    \n",
    "    for neighbourhood in neighbourhoods:\n",
    "        df_neighb = df.loc[df['neighbourhood'] == neighbourhood]\n",
    "        df_by_neighbourhood.append(df_neighb)\n",
    "    df = pd.concat(df_by_neighbourhood, ignore_index = True)\n",
    "    \n",
    "    #Adding coordinates. Even thought I have districs location, Tableau does not recognize them. With the function and an API I have been able to retrieve the coordinates of them and will be able to load a map on Tableau\n",
    "    df_location = pd.read_csv('gps_location_neighbourhood.csv')\n",
    "    df_location.rename(columns = {'Unnamed: 0' : 'neighbourhood'}, inplace = True)  \n",
    "    coord_by_neighbourhood = []\n",
    "    \n",
    "    for neighbourhood in neighbourhoods:\n",
    "        lon = df_location[df_location['neighbourhood'] == neighbourhood]['lon'] \n",
    "        lon = float(lon.iloc[0])\n",
    "        lat = df_location[df_location['neighbourhood'] == neighbourhood]['lat'] \n",
    "        lat = float(lat.iloc[0])\n",
    "        \n",
    "        df.loc[df['neighbourhood'] == neighbourhood, 'lon'] = lon\n",
    "        df.loc[df['neighbourhood'] == neighbourhood, 'lat'] = lat\n",
    "\n",
    "    #Due to the amount of data finally collected, I have decided to not keep the one with 0 rooms\n",
    "    df = df.loc[df['rooms'] != 0]\n",
    "    \n",
    "    #Reseting the index\n",
    "    df = df.reset_index()\n",
    "    df.drop(columns=['index'], inplace = True)\n",
    "    \n",
    "    return df\n"
   ]
  },
  {
   "cell_type": "code",
   "execution_count": 21,
   "metadata": {},
   "outputs": [],
   "source": [
    "#Getting df_housing to perform analysis\n",
    "df_housing = opening_and_cleaning()"
   ]
  },
  {
   "cell_type": "code",
   "execution_count": 22,
   "metadata": {},
   "outputs": [
    {
     "data": {
      "text/html": [
       "<div>\n",
       "<style scoped>\n",
       "    .dataframe tbody tr th:only-of-type {\n",
       "        vertical-align: middle;\n",
       "    }\n",
       "\n",
       "    .dataframe tbody tr th {\n",
       "        vertical-align: top;\n",
       "    }\n",
       "\n",
       "    .dataframe thead th {\n",
       "        text-align: right;\n",
       "    }\n",
       "</style>\n",
       "<table border=\"1\" class=\"dataframe\">\n",
       "  <thead>\n",
       "    <tr style=\"text-align: right;\">\n",
       "      <th></th>\n",
       "      <th>housing_type</th>\n",
       "      <th>price</th>\n",
       "      <th>size</th>\n",
       "      <th>price_per_sq</th>\n",
       "      <th>rooms</th>\n",
       "      <th>neighbourhood</th>\n",
       "      <th>website</th>\n",
       "      <th>date</th>\n",
       "      <th>lon</th>\n",
       "      <th>lat</th>\n",
       "    </tr>\n",
       "  </thead>\n",
       "  <tbody>\n",
       "    <tr>\n",
       "      <th>0</th>\n",
       "      <td>mieszkanie</td>\n",
       "      <td>1270000</td>\n",
       "      <td>72.18</td>\n",
       "      <td>17594.90</td>\n",
       "      <td>3</td>\n",
       "      <td>Bemowo</td>\n",
       "      <td>Domiporta</td>\n",
       "      <td>22/10/2023</td>\n",
       "      <td>20.912557</td>\n",
       "      <td>52.242109</td>\n",
       "    </tr>\n",
       "    <tr>\n",
       "      <th>1</th>\n",
       "      <td>mieszkanie</td>\n",
       "      <td>785000</td>\n",
       "      <td>60.00</td>\n",
       "      <td>13083.00</td>\n",
       "      <td>2</td>\n",
       "      <td>Bemowo</td>\n",
       "      <td>Morizon</td>\n",
       "      <td>28/10/2023</td>\n",
       "      <td>20.912557</td>\n",
       "      <td>52.242109</td>\n",
       "    </tr>\n",
       "    <tr>\n",
       "      <th>2</th>\n",
       "      <td>mieszkanie</td>\n",
       "      <td>1230000</td>\n",
       "      <td>72.18</td>\n",
       "      <td>17040.73</td>\n",
       "      <td>3</td>\n",
       "      <td>Bemowo</td>\n",
       "      <td>Domiporta</td>\n",
       "      <td>28/10/2023</td>\n",
       "      <td>20.912557</td>\n",
       "      <td>52.242109</td>\n",
       "    </tr>\n",
       "    <tr>\n",
       "      <th>3</th>\n",
       "      <td>mieszkanie</td>\n",
       "      <td>840000</td>\n",
       "      <td>47.11</td>\n",
       "      <td>17830.61</td>\n",
       "      <td>2</td>\n",
       "      <td>Bemowo</td>\n",
       "      <td>Domiporta</td>\n",
       "      <td>31/10/2023</td>\n",
       "      <td>20.912557</td>\n",
       "      <td>52.242109</td>\n",
       "    </tr>\n",
       "    <tr>\n",
       "      <th>4</th>\n",
       "      <td>mieszkanie</td>\n",
       "      <td>1300000</td>\n",
       "      <td>86.00</td>\n",
       "      <td>15116.28</td>\n",
       "      <td>3</td>\n",
       "      <td>Bemowo</td>\n",
       "      <td>Domiporta</td>\n",
       "      <td>31/10/2023</td>\n",
       "      <td>20.912557</td>\n",
       "      <td>52.242109</td>\n",
       "    </tr>\n",
       "    <tr>\n",
       "      <th>...</th>\n",
       "      <td>...</td>\n",
       "      <td>...</td>\n",
       "      <td>...</td>\n",
       "      <td>...</td>\n",
       "      <td>...</td>\n",
       "      <td>...</td>\n",
       "      <td>...</td>\n",
       "      <td>...</td>\n",
       "      <td>...</td>\n",
       "      <td>...</td>\n",
       "    </tr>\n",
       "    <tr>\n",
       "      <th>316</th>\n",
       "      <td>mieszkanie</td>\n",
       "      <td>735000</td>\n",
       "      <td>49.00</td>\n",
       "      <td>15000.00</td>\n",
       "      <td>3</td>\n",
       "      <td>Żoliborz</td>\n",
       "      <td>Domiporta</td>\n",
       "      <td>31/10/2023</td>\n",
       "      <td>20.979698</td>\n",
       "      <td>52.267594</td>\n",
       "    </tr>\n",
       "    <tr>\n",
       "      <th>317</th>\n",
       "      <td>mieszkanie</td>\n",
       "      <td>1075000</td>\n",
       "      <td>53.75</td>\n",
       "      <td>20000.00</td>\n",
       "      <td>3</td>\n",
       "      <td>Żoliborz</td>\n",
       "      <td>Domiporta</td>\n",
       "      <td>31/10/2023</td>\n",
       "      <td>20.979698</td>\n",
       "      <td>52.267594</td>\n",
       "    </tr>\n",
       "    <tr>\n",
       "      <th>318</th>\n",
       "      <td>mieszkanie</td>\n",
       "      <td>1520000</td>\n",
       "      <td>75.85</td>\n",
       "      <td>20039.55</td>\n",
       "      <td>3</td>\n",
       "      <td>Żoliborz</td>\n",
       "      <td>Domiporta</td>\n",
       "      <td>3/11/2023</td>\n",
       "      <td>20.979698</td>\n",
       "      <td>52.267594</td>\n",
       "    </tr>\n",
       "    <tr>\n",
       "      <th>319</th>\n",
       "      <td>mieszkanie</td>\n",
       "      <td>630000</td>\n",
       "      <td>38.00</td>\n",
       "      <td>16578.95</td>\n",
       "      <td>2</td>\n",
       "      <td>Żoliborz</td>\n",
       "      <td>Domiporta</td>\n",
       "      <td>7/11/2023</td>\n",
       "      <td>20.979698</td>\n",
       "      <td>52.267594</td>\n",
       "    </tr>\n",
       "    <tr>\n",
       "      <th>320</th>\n",
       "      <td>mieszkanie</td>\n",
       "      <td>1190000</td>\n",
       "      <td>58.94</td>\n",
       "      <td>20190.02</td>\n",
       "      <td>2</td>\n",
       "      <td>Żoliborz</td>\n",
       "      <td>Domiporta</td>\n",
       "      <td>8/11/2023</td>\n",
       "      <td>20.979698</td>\n",
       "      <td>52.267594</td>\n",
       "    </tr>\n",
       "  </tbody>\n",
       "</table>\n",
       "<p>321 rows × 10 columns</p>\n",
       "</div>"
      ],
      "text/plain": [
       "    housing_type    price   size  price_per_sq  rooms neighbourhood  \\\n",
       "0     mieszkanie  1270000  72.18      17594.90      3        Bemowo   \n",
       "1     mieszkanie   785000  60.00      13083.00      2        Bemowo   \n",
       "2     mieszkanie  1230000  72.18      17040.73      3        Bemowo   \n",
       "3     mieszkanie   840000  47.11      17830.61      2        Bemowo   \n",
       "4     mieszkanie  1300000  86.00      15116.28      3        Bemowo   \n",
       "..           ...      ...    ...           ...    ...           ...   \n",
       "316   mieszkanie   735000  49.00      15000.00      3      Żoliborz   \n",
       "317   mieszkanie  1075000  53.75      20000.00      3      Żoliborz   \n",
       "318   mieszkanie  1520000  75.85      20039.55      3      Żoliborz   \n",
       "319   mieszkanie   630000  38.00      16578.95      2      Żoliborz   \n",
       "320   mieszkanie  1190000  58.94      20190.02      2      Żoliborz   \n",
       "\n",
       "       website        date        lon        lat  \n",
       "0    Domiporta  22/10/2023  20.912557  52.242109  \n",
       "1      Morizon  28/10/2023  20.912557  52.242109  \n",
       "2    Domiporta  28/10/2023  20.912557  52.242109  \n",
       "3    Domiporta  31/10/2023  20.912557  52.242109  \n",
       "4    Domiporta  31/10/2023  20.912557  52.242109  \n",
       "..         ...         ...        ...        ...  \n",
       "316  Domiporta  31/10/2023  20.979698  52.267594  \n",
       "317  Domiporta  31/10/2023  20.979698  52.267594  \n",
       "318  Domiporta   3/11/2023  20.979698  52.267594  \n",
       "319  Domiporta   7/11/2023  20.979698  52.267594  \n",
       "320  Domiporta   8/11/2023  20.979698  52.267594  \n",
       "\n",
       "[321 rows x 10 columns]"
      ]
     },
     "execution_count": 22,
     "metadata": {},
     "output_type": "execute_result"
    }
   ],
   "source": [
    "df_housing"
   ]
  },
  {
   "cell_type": "code",
   "execution_count": 30,
   "metadata": {},
   "outputs": [],
   "source": [
    "#Saving it at the same it to use it in Tableau\n",
    "dataset_cleaned(df_housing)"
   ]
  },
  {
   "cell_type": "markdown",
   "metadata": {},
   "source": [
    "# Linear regression and price predictions"
   ]
  },
  {
   "cell_type": "markdown",
   "metadata": {},
   "source": [
    "## Simple linear regression"
   ]
  },
  {
   "cell_type": "code",
   "execution_count": 37,
   "metadata": {},
   "outputs": [],
   "source": [
    "#Linear regression on a neighbourhood:\n",
    "\n",
    "def linear_reg_neigbourhood(df_housing, neighbourhood):\n",
    "    \n",
    "    #Defining the dataset\n",
    "    df_housing_neighbourhood = df_housing[df_housing['neighbourhood'] == neighbourhood].copy()\n",
    "\n",
    "    #From previous test, we have seen some outliers and we need to remove them. FOR NOW. If we could gather more data, these outliers could be not be outliers.\n",
    "    df_housing_neighbourhood = outliers(df_housing_neighbourhood)\n",
    "    df_housing_neighbourhood = df_housing_neighbourhood.dropna()\n",
    "    \n",
    "    #Plotting correlation heat map\n",
    "    housing_corr = df_housing.corr(numeric_only = True)\n",
    "    housing_corr.style.background_gradient(cmap='RdYlGn').format('{:,.2f}')\n",
    "    mask = np.zeros_like(housing_corr)\n",
    "    mask[np.triu_indices_from(mask)] = True\n",
    "    sns.heatmap(housing_corr, mask=mask, annot=True, cmap='RdYlGn')\n",
    "\n",
    "    #Plotting histogram and box plot\n",
    "    fig = make_subplots(rows=2, cols=2)\n",
    "    fig.add_trace(go.Histogram(x=df_housing_neighbourhood['price'], name='price', marker=dict(color='blue')), row=1, col=1)\n",
    "    fig.add_trace(go.Histogram(x=df_housing_neighbourhood['size'], name='size', marker=dict(color='purple')), row=1, col=2)\n",
    "    fig.add_trace(go.Box(x=df_housing_neighbourhood['price'], name='price', marker=dict(color='blue')), row=2, col=1)\n",
    "    fig.add_trace(go.Box(x=df_housing_neighbourhood['size'], name='size', marker=dict(color='purple')), row=2, col=2)\n",
    "\n",
    "    fig.update_layout(height=800, width=1000)\n",
    "    fig.show()\n",
    "    \n",
    "    if df_housing_neighbourhood.shape[0] > 2 :\n",
    "        \n",
    "        model = linear_model.LinearRegression()\n",
    "        df_housing_neighbourhood.drop(columns = ['housing_type', 'price_per_sq', 'rooms', 'neighbourhood', 'website', 'date', 'lon', 'lat'], inplace = True)\n",
    "\n",
    "        \n",
    "        #X-y split\n",
    "        X = df_housing_neighbourhood.drop('price', axis=1)\n",
    "        y = df_housing_neighbourhood['price']\n",
    "        \n",
    "        #Results and Plot\n",
    "        result = model.fit(X, y)\n",
    "\n",
    "        print(\"Intercept:\", result.intercept_)\n",
    "        print(\"Coefficient:\", result.coef_) \n",
    "        \n",
    "        regression_line = result.intercept_ + df_housing_neighbourhood['size'] * result.coef_\n",
    "        \n",
    "        #Plot and printing results\n",
    "        plt.plot(df_housing_neighbourhood['size'], regression_line, c='orange')\n",
    "        plt.scatter(df_housing_neighbourhood['size'], df_housing_neighbourhood['price'])\n",
    "        plt.xlabel('Size')\n",
    "        plt.show()\n",
    "        \n",
    "        print(f'R^2 score is : {round(model.score(X, y), 3)}')\n",
    "        \n",
    "        return (round(model.score(X, y), 3), result.intercept_, result.coef_)\n",
    "    \n",
    "    else :\n",
    "        return f'Not enough data for {neighbourhood}'"
   ]
  },
  {
   "cell_type": "code",
   "execution_count": 38,
   "metadata": {},
   "outputs": [
    {
     "data": {
      "application/vnd.plotly.v1+json": {
       "config": {
        "plotlyServerURL": "https://plot.ly"
       },
       "data": [
        {
         "marker": {
          "color": "blue"
         },
         "name": "price",
         "type": "histogram",
         "x": [
          987100,
          989800,
          850000,
          500000,
          2200000,
          1990000,
          860000,
          760000,
          1420000,
          799000,
          570000,
          850000,
          790000,
          1352910,
          3000000,
          845000,
          2250000,
          1540000,
          1059000,
          750000,
          855000,
          830000,
          840000,
          1900000,
          1200000,
          1625000,
          1350000,
          3500000,
          2780000,
          3171960,
          1450000,
          2499000,
          3348810,
          1980000,
          950000,
          840000,
          459000,
          2250000,
          829000,
          1420000,
          996000,
          610000,
          1990000,
          575000,
          690000,
          3400000,
          1590000,
          1680000,
          550000,
          1555000,
          1950000,
          550000,
          590000,
          678600,
          1490000,
          1100000,
          1640400,
          1140000,
          976320,
          2599120,
          1741950,
          785000
         ],
         "xaxis": "x",
         "yaxis": "y"
        },
        {
         "marker": {
          "color": "purple"
         },
         "name": "size",
         "type": "histogram",
         "x": [
          47.79,
          47.92,
          56.2,
          28,
          122.81,
          108.21,
          64,
          61.5,
          91,
          55.75,
          36,
          59.5,
          49.87,
          69.38,
          135,
          50,
          140,
          64,
          56.7,
          37,
          42.92,
          40.75,
          56,
          107,
          52,
          145.1,
          43.1,
          135.6,
          84.69,
          97.8,
          91.61,
          136.3,
          124,
          87.36,
          59,
          56.2,
          31,
          113,
          47.5,
          64,
          40,
          30.5,
          146.46,
          37.5,
          38,
          126,
          74,
          85,
          21.73,
          85,
          79.12,
          21,
          30.5,
          39,
          88,
          56.7,
          80.72,
          54.36,
          36.42,
          66.78,
          83.89,
          49
         ],
         "xaxis": "x2",
         "yaxis": "y2"
        },
        {
         "marker": {
          "color": "blue"
         },
         "name": "price",
         "type": "box",
         "x": [
          987100,
          989800,
          850000,
          500000,
          2200000,
          1990000,
          860000,
          760000,
          1420000,
          799000,
          570000,
          850000,
          790000,
          1352910,
          3000000,
          845000,
          2250000,
          1540000,
          1059000,
          750000,
          855000,
          830000,
          840000,
          1900000,
          1200000,
          1625000,
          1350000,
          3500000,
          2780000,
          3171960,
          1450000,
          2499000,
          3348810,
          1980000,
          950000,
          840000,
          459000,
          2250000,
          829000,
          1420000,
          996000,
          610000,
          1990000,
          575000,
          690000,
          3400000,
          1590000,
          1680000,
          550000,
          1555000,
          1950000,
          550000,
          590000,
          678600,
          1490000,
          1100000,
          1640400,
          1140000,
          976320,
          2599120,
          1741950,
          785000
         ],
         "xaxis": "x3",
         "yaxis": "y3"
        },
        {
         "marker": {
          "color": "purple"
         },
         "name": "size",
         "type": "box",
         "x": [
          47.79,
          47.92,
          56.2,
          28,
          122.81,
          108.21,
          64,
          61.5,
          91,
          55.75,
          36,
          59.5,
          49.87,
          69.38,
          135,
          50,
          140,
          64,
          56.7,
          37,
          42.92,
          40.75,
          56,
          107,
          52,
          145.1,
          43.1,
          135.6,
          84.69,
          97.8,
          91.61,
          136.3,
          124,
          87.36,
          59,
          56.2,
          31,
          113,
          47.5,
          64,
          40,
          30.5,
          146.46,
          37.5,
          38,
          126,
          74,
          85,
          21.73,
          85,
          79.12,
          21,
          30.5,
          39,
          88,
          56.7,
          80.72,
          54.36,
          36.42,
          66.78,
          83.89,
          49
         ],
         "xaxis": "x4",
         "yaxis": "y4"
        }
       ],
       "layout": {
        "height": 800,
        "template": {
         "data": {
          "bar": [
           {
            "error_x": {
             "color": "#2a3f5f"
            },
            "error_y": {
             "color": "#2a3f5f"
            },
            "marker": {
             "line": {
              "color": "#E5ECF6",
              "width": 0.5
             },
             "pattern": {
              "fillmode": "overlay",
              "size": 10,
              "solidity": 0.2
             }
            },
            "type": "bar"
           }
          ],
          "barpolar": [
           {
            "marker": {
             "line": {
              "color": "#E5ECF6",
              "width": 0.5
             },
             "pattern": {
              "fillmode": "overlay",
              "size": 10,
              "solidity": 0.2
             }
            },
            "type": "barpolar"
           }
          ],
          "carpet": [
           {
            "aaxis": {
             "endlinecolor": "#2a3f5f",
             "gridcolor": "white",
             "linecolor": "white",
             "minorgridcolor": "white",
             "startlinecolor": "#2a3f5f"
            },
            "baxis": {
             "endlinecolor": "#2a3f5f",
             "gridcolor": "white",
             "linecolor": "white",
             "minorgridcolor": "white",
             "startlinecolor": "#2a3f5f"
            },
            "type": "carpet"
           }
          ],
          "choropleth": [
           {
            "colorbar": {
             "outlinewidth": 0,
             "ticks": ""
            },
            "type": "choropleth"
           }
          ],
          "contour": [
           {
            "colorbar": {
             "outlinewidth": 0,
             "ticks": ""
            },
            "colorscale": [
             [
              0,
              "#0d0887"
             ],
             [
              0.1111111111111111,
              "#46039f"
             ],
             [
              0.2222222222222222,
              "#7201a8"
             ],
             [
              0.3333333333333333,
              "#9c179e"
             ],
             [
              0.4444444444444444,
              "#bd3786"
             ],
             [
              0.5555555555555556,
              "#d8576b"
             ],
             [
              0.6666666666666666,
              "#ed7953"
             ],
             [
              0.7777777777777778,
              "#fb9f3a"
             ],
             [
              0.8888888888888888,
              "#fdca26"
             ],
             [
              1,
              "#f0f921"
             ]
            ],
            "type": "contour"
           }
          ],
          "contourcarpet": [
           {
            "colorbar": {
             "outlinewidth": 0,
             "ticks": ""
            },
            "type": "contourcarpet"
           }
          ],
          "heatmap": [
           {
            "colorbar": {
             "outlinewidth": 0,
             "ticks": ""
            },
            "colorscale": [
             [
              0,
              "#0d0887"
             ],
             [
              0.1111111111111111,
              "#46039f"
             ],
             [
              0.2222222222222222,
              "#7201a8"
             ],
             [
              0.3333333333333333,
              "#9c179e"
             ],
             [
              0.4444444444444444,
              "#bd3786"
             ],
             [
              0.5555555555555556,
              "#d8576b"
             ],
             [
              0.6666666666666666,
              "#ed7953"
             ],
             [
              0.7777777777777778,
              "#fb9f3a"
             ],
             [
              0.8888888888888888,
              "#fdca26"
             ],
             [
              1,
              "#f0f921"
             ]
            ],
            "type": "heatmap"
           }
          ],
          "heatmapgl": [
           {
            "colorbar": {
             "outlinewidth": 0,
             "ticks": ""
            },
            "colorscale": [
             [
              0,
              "#0d0887"
             ],
             [
              0.1111111111111111,
              "#46039f"
             ],
             [
              0.2222222222222222,
              "#7201a8"
             ],
             [
              0.3333333333333333,
              "#9c179e"
             ],
             [
              0.4444444444444444,
              "#bd3786"
             ],
             [
              0.5555555555555556,
              "#d8576b"
             ],
             [
              0.6666666666666666,
              "#ed7953"
             ],
             [
              0.7777777777777778,
              "#fb9f3a"
             ],
             [
              0.8888888888888888,
              "#fdca26"
             ],
             [
              1,
              "#f0f921"
             ]
            ],
            "type": "heatmapgl"
           }
          ],
          "histogram": [
           {
            "marker": {
             "pattern": {
              "fillmode": "overlay",
              "size": 10,
              "solidity": 0.2
             }
            },
            "type": "histogram"
           }
          ],
          "histogram2d": [
           {
            "colorbar": {
             "outlinewidth": 0,
             "ticks": ""
            },
            "colorscale": [
             [
              0,
              "#0d0887"
             ],
             [
              0.1111111111111111,
              "#46039f"
             ],
             [
              0.2222222222222222,
              "#7201a8"
             ],
             [
              0.3333333333333333,
              "#9c179e"
             ],
             [
              0.4444444444444444,
              "#bd3786"
             ],
             [
              0.5555555555555556,
              "#d8576b"
             ],
             [
              0.6666666666666666,
              "#ed7953"
             ],
             [
              0.7777777777777778,
              "#fb9f3a"
             ],
             [
              0.8888888888888888,
              "#fdca26"
             ],
             [
              1,
              "#f0f921"
             ]
            ],
            "type": "histogram2d"
           }
          ],
          "histogram2dcontour": [
           {
            "colorbar": {
             "outlinewidth": 0,
             "ticks": ""
            },
            "colorscale": [
             [
              0,
              "#0d0887"
             ],
             [
              0.1111111111111111,
              "#46039f"
             ],
             [
              0.2222222222222222,
              "#7201a8"
             ],
             [
              0.3333333333333333,
              "#9c179e"
             ],
             [
              0.4444444444444444,
              "#bd3786"
             ],
             [
              0.5555555555555556,
              "#d8576b"
             ],
             [
              0.6666666666666666,
              "#ed7953"
             ],
             [
              0.7777777777777778,
              "#fb9f3a"
             ],
             [
              0.8888888888888888,
              "#fdca26"
             ],
             [
              1,
              "#f0f921"
             ]
            ],
            "type": "histogram2dcontour"
           }
          ],
          "mesh3d": [
           {
            "colorbar": {
             "outlinewidth": 0,
             "ticks": ""
            },
            "type": "mesh3d"
           }
          ],
          "parcoords": [
           {
            "line": {
             "colorbar": {
              "outlinewidth": 0,
              "ticks": ""
             }
            },
            "type": "parcoords"
           }
          ],
          "pie": [
           {
            "automargin": true,
            "type": "pie"
           }
          ],
          "scatter": [
           {
            "fillpattern": {
             "fillmode": "overlay",
             "size": 10,
             "solidity": 0.2
            },
            "type": "scatter"
           }
          ],
          "scatter3d": [
           {
            "line": {
             "colorbar": {
              "outlinewidth": 0,
              "ticks": ""
             }
            },
            "marker": {
             "colorbar": {
              "outlinewidth": 0,
              "ticks": ""
             }
            },
            "type": "scatter3d"
           }
          ],
          "scattercarpet": [
           {
            "marker": {
             "colorbar": {
              "outlinewidth": 0,
              "ticks": ""
             }
            },
            "type": "scattercarpet"
           }
          ],
          "scattergeo": [
           {
            "marker": {
             "colorbar": {
              "outlinewidth": 0,
              "ticks": ""
             }
            },
            "type": "scattergeo"
           }
          ],
          "scattergl": [
           {
            "marker": {
             "colorbar": {
              "outlinewidth": 0,
              "ticks": ""
             }
            },
            "type": "scattergl"
           }
          ],
          "scattermapbox": [
           {
            "marker": {
             "colorbar": {
              "outlinewidth": 0,
              "ticks": ""
             }
            },
            "type": "scattermapbox"
           }
          ],
          "scatterpolar": [
           {
            "marker": {
             "colorbar": {
              "outlinewidth": 0,
              "ticks": ""
             }
            },
            "type": "scatterpolar"
           }
          ],
          "scatterpolargl": [
           {
            "marker": {
             "colorbar": {
              "outlinewidth": 0,
              "ticks": ""
             }
            },
            "type": "scatterpolargl"
           }
          ],
          "scatterternary": [
           {
            "marker": {
             "colorbar": {
              "outlinewidth": 0,
              "ticks": ""
             }
            },
            "type": "scatterternary"
           }
          ],
          "surface": [
           {
            "colorbar": {
             "outlinewidth": 0,
             "ticks": ""
            },
            "colorscale": [
             [
              0,
              "#0d0887"
             ],
             [
              0.1111111111111111,
              "#46039f"
             ],
             [
              0.2222222222222222,
              "#7201a8"
             ],
             [
              0.3333333333333333,
              "#9c179e"
             ],
             [
              0.4444444444444444,
              "#bd3786"
             ],
             [
              0.5555555555555556,
              "#d8576b"
             ],
             [
              0.6666666666666666,
              "#ed7953"
             ],
             [
              0.7777777777777778,
              "#fb9f3a"
             ],
             [
              0.8888888888888888,
              "#fdca26"
             ],
             [
              1,
              "#f0f921"
             ]
            ],
            "type": "surface"
           }
          ],
          "table": [
           {
            "cells": {
             "fill": {
              "color": "#EBF0F8"
             },
             "line": {
              "color": "white"
             }
            },
            "header": {
             "fill": {
              "color": "#C8D4E3"
             },
             "line": {
              "color": "white"
             }
            },
            "type": "table"
           }
          ]
         },
         "layout": {
          "annotationdefaults": {
           "arrowcolor": "#2a3f5f",
           "arrowhead": 0,
           "arrowwidth": 1
          },
          "autotypenumbers": "strict",
          "coloraxis": {
           "colorbar": {
            "outlinewidth": 0,
            "ticks": ""
           }
          },
          "colorscale": {
           "diverging": [
            [
             0,
             "#8e0152"
            ],
            [
             0.1,
             "#c51b7d"
            ],
            [
             0.2,
             "#de77ae"
            ],
            [
             0.3,
             "#f1b6da"
            ],
            [
             0.4,
             "#fde0ef"
            ],
            [
             0.5,
             "#f7f7f7"
            ],
            [
             0.6,
             "#e6f5d0"
            ],
            [
             0.7,
             "#b8e186"
            ],
            [
             0.8,
             "#7fbc41"
            ],
            [
             0.9,
             "#4d9221"
            ],
            [
             1,
             "#276419"
            ]
           ],
           "sequential": [
            [
             0,
             "#0d0887"
            ],
            [
             0.1111111111111111,
             "#46039f"
            ],
            [
             0.2222222222222222,
             "#7201a8"
            ],
            [
             0.3333333333333333,
             "#9c179e"
            ],
            [
             0.4444444444444444,
             "#bd3786"
            ],
            [
             0.5555555555555556,
             "#d8576b"
            ],
            [
             0.6666666666666666,
             "#ed7953"
            ],
            [
             0.7777777777777778,
             "#fb9f3a"
            ],
            [
             0.8888888888888888,
             "#fdca26"
            ],
            [
             1,
             "#f0f921"
            ]
           ],
           "sequentialminus": [
            [
             0,
             "#0d0887"
            ],
            [
             0.1111111111111111,
             "#46039f"
            ],
            [
             0.2222222222222222,
             "#7201a8"
            ],
            [
             0.3333333333333333,
             "#9c179e"
            ],
            [
             0.4444444444444444,
             "#bd3786"
            ],
            [
             0.5555555555555556,
             "#d8576b"
            ],
            [
             0.6666666666666666,
             "#ed7953"
            ],
            [
             0.7777777777777778,
             "#fb9f3a"
            ],
            [
             0.8888888888888888,
             "#fdca26"
            ],
            [
             1,
             "#f0f921"
            ]
           ]
          },
          "colorway": [
           "#636efa",
           "#EF553B",
           "#00cc96",
           "#ab63fa",
           "#FFA15A",
           "#19d3f3",
           "#FF6692",
           "#B6E880",
           "#FF97FF",
           "#FECB52"
          ],
          "font": {
           "color": "#2a3f5f"
          },
          "geo": {
           "bgcolor": "white",
           "lakecolor": "white",
           "landcolor": "#E5ECF6",
           "showlakes": true,
           "showland": true,
           "subunitcolor": "white"
          },
          "hoverlabel": {
           "align": "left"
          },
          "hovermode": "closest",
          "mapbox": {
           "style": "light"
          },
          "paper_bgcolor": "white",
          "plot_bgcolor": "#E5ECF6",
          "polar": {
           "angularaxis": {
            "gridcolor": "white",
            "linecolor": "white",
            "ticks": ""
           },
           "bgcolor": "#E5ECF6",
           "radialaxis": {
            "gridcolor": "white",
            "linecolor": "white",
            "ticks": ""
           }
          },
          "scene": {
           "xaxis": {
            "backgroundcolor": "#E5ECF6",
            "gridcolor": "white",
            "gridwidth": 2,
            "linecolor": "white",
            "showbackground": true,
            "ticks": "",
            "zerolinecolor": "white"
           },
           "yaxis": {
            "backgroundcolor": "#E5ECF6",
            "gridcolor": "white",
            "gridwidth": 2,
            "linecolor": "white",
            "showbackground": true,
            "ticks": "",
            "zerolinecolor": "white"
           },
           "zaxis": {
            "backgroundcolor": "#E5ECF6",
            "gridcolor": "white",
            "gridwidth": 2,
            "linecolor": "white",
            "showbackground": true,
            "ticks": "",
            "zerolinecolor": "white"
           }
          },
          "shapedefaults": {
           "line": {
            "color": "#2a3f5f"
           }
          },
          "ternary": {
           "aaxis": {
            "gridcolor": "white",
            "linecolor": "white",
            "ticks": ""
           },
           "baxis": {
            "gridcolor": "white",
            "linecolor": "white",
            "ticks": ""
           },
           "bgcolor": "#E5ECF6",
           "caxis": {
            "gridcolor": "white",
            "linecolor": "white",
            "ticks": ""
           }
          },
          "title": {
           "x": 0.05
          },
          "xaxis": {
           "automargin": true,
           "gridcolor": "white",
           "linecolor": "white",
           "ticks": "",
           "title": {
            "standoff": 15
           },
           "zerolinecolor": "white",
           "zerolinewidth": 2
          },
          "yaxis": {
           "automargin": true,
           "gridcolor": "white",
           "linecolor": "white",
           "ticks": "",
           "title": {
            "standoff": 15
           },
           "zerolinecolor": "white",
           "zerolinewidth": 2
          }
         }
        },
        "width": 1000,
        "xaxis": {
         "anchor": "y",
         "domain": [
          0,
          0.45
         ]
        },
        "xaxis2": {
         "anchor": "y2",
         "domain": [
          0.55,
          1
         ]
        },
        "xaxis3": {
         "anchor": "y3",
         "domain": [
          0,
          0.45
         ]
        },
        "xaxis4": {
         "anchor": "y4",
         "domain": [
          0.55,
          1
         ]
        },
        "yaxis": {
         "anchor": "x",
         "domain": [
          0.575,
          1
         ]
        },
        "yaxis2": {
         "anchor": "x2",
         "domain": [
          0.575,
          1
         ]
        },
        "yaxis3": {
         "anchor": "x3",
         "domain": [
          0,
          0.425
         ]
        },
        "yaxis4": {
         "anchor": "x4",
         "domain": [
          0,
          0.425
         ]
        }
       }
      }
     },
     "metadata": {},
     "output_type": "display_data"
    },
    {
     "name": "stdout",
     "output_type": "stream",
     "text": [
      "Intercept: 29679.567562619923\n",
      "Coefficient: [19581.47474391]\n"
     ]
    },
    {
     "data": {
      "image/png": "[encoded data removed]",
      "text/plain": [
       "<Figure size 640x480 with 2 Axes>"
      ]
     },
     "metadata": {},
     "output_type": "display_data"
    },
    {
     "name": "stdout",
     "output_type": "stream",
     "text": [
      "R^2 score is : 0.701\n"
     ]
    }
   ],
   "source": [
    "linear_reg = linear_reg_neigbourhood(df_housing, 'Mokotów')"
   ]
  },
  {
   "cell_type": "markdown",
   "metadata": {},
   "source": [
    "### Same function, but whithout all the plots :"
   ]
  },
  {
   "cell_type": "code",
   "execution_count": 35,
   "metadata": {},
   "outputs": [],
   "source": [
    "#We want to see the score on each neighbourhood. We will update our function to no display all the plots\n",
    "def linear_reg_neigbourhood_score(df_housing, neighbourhood):\n",
    "    \n",
    "    df_housing_neighbourhood = df_housing[df_housing['neighbourhood'] == neighbourhood].copy()\n",
    "    \n",
    "    df_housing_neighbourhood = outliers(df_housing_neighbourhood)\n",
    "    df_housing_neighbourhood = df_housing_neighbourhood.dropna()\n",
    "    \n",
    "    if df_housing_neighbourhood.shape[0] > 2 :\n",
    "        \n",
    "        #Inizialization of Linear regression\n",
    "        model = linear_model.LinearRegression()\n",
    "        df_housing_neighbourhood.drop(columns = ['housing_type', 'price_per_sq', 'rooms', 'neighbourhood', 'website', 'date', 'lon', 'lat'], inplace = True)\n",
    "\n",
    "        #X-y split\n",
    "        X = df_housing_neighbourhood.drop('price', axis=1)\n",
    "        y = df_housing_neighbourhood['price']\n",
    "        \n",
    "        #Results\n",
    "        result = model.fit(X, y)\n",
    "        \n",
    "        return (round(model.score(X, y), 3), result.intercept_, result.coef_)\n",
    "    \n",
    "    else :\n",
    "        return f'Not enough data for {neighbourhood}'"
   ]
  },
  {
   "cell_type": "code",
   "execution_count": 36,
   "metadata": {},
   "outputs": [
    {
     "data": {
      "text/plain": [
       "{'Bemowo': 0.515,\n",
       " 'Białołęka': 0.148,\n",
       " 'Bielany': 0.66,\n",
       " 'Mokotów': 0.701,\n",
       " 'Ochota': 0.752,\n",
       " 'Praga': 0.614,\n",
       " 'Rembertów': 'Not enough data for Rembertów',\n",
       " 'Targówek': 0.85,\n",
       " 'Ursus': 'Not enough data for Ursus',\n",
       " 'Ursynów': 0.671,\n",
       " 'Wawer': 0.336,\n",
       " 'Wesoła': 0.25,\n",
       " 'Wilanów': 0.809,\n",
       " 'Wola': 0.79,\n",
       " 'Włochy': 0.942,\n",
       " 'Śródmieście': 0.661,\n",
       " 'Żoliborz': 0.815}"
      ]
     },
     "execution_count": 36,
     "metadata": {},
     "output_type": "execute_result"
    }
   ],
   "source": [
    "dict_score = {}\n",
    "for neighbourhood in neighbourhoods:\n",
    "    dict_score[neighbourhood] = linear_reg_neigbourhood_score(df_housing, neighbourhood)\n",
    "    if type(dict_score[neighbourhood]) == tuple:\n",
    "        dict_score[neighbourhood] = linear_reg_neigbourhood_score(df_housing, neighbourhood)[0]\n",
    "    else:\n",
    "        dict_score[neighbourhood] = linear_reg_neigbourhood_score(df_housing, neighbourhood)\n",
    "dict_score"
   ]
  },
  {
   "cell_type": "markdown",
   "metadata": {},
   "source": [
    "We are not having great result for each neighboorhoud"
   ]
  },
  {
   "cell_type": "markdown",
   "metadata": {},
   "source": [
    "## **Multiple linear regression**"
   ]
  },
  {
   "cell_type": "code",
   "execution_count": 124,
   "metadata": {},
   "outputs": [],
   "source": [
    "df_copy = df_housing.copy()"
   ]
  },
  {
   "cell_type": "code",
   "execution_count": 161,
   "metadata": {},
   "outputs": [
    {
     "data": {
      "application/vnd.plotly.v1+json": {
       "config": {
        "plotlyServerURL": "https://plot.ly"
       },
       "data": [
        {
         "name": "price",
         "type": "histogram",
         "x": [
          1270000,
          785000,
          1230000,
          840000,
          1300000,
          725200,
          748000,
          990000,
          685000,
          655000,
          1075000,
          572009,
          504112,
          463419,
          528953,
          563164,
          549000,
          593975,
          610000,
          795000,
          890000,
          750000,
          921000,
          945000,
          1350000,
          2250000,
          680000,
          1134300,
          987100,
          989800,
          850000,
          500000,
          2200000,
          1990000,
          860000,
          760000,
          1420000,
          799000,
          570000,
          850000,
          790000,
          1352910,
          3000000,
          845000,
          4900000,
          2250000,
          6500000,
          1540000,
          1059000,
          750000,
          855000,
          830000,
          840000,
          1900000,
          1200000,
          1625000,
          1350000,
          3500000,
          2780000,
          3171960,
          1450000,
          2499000,
          3348810,
          5050000,
          1980000,
          950000,
          840000,
          459000,
          2250000,
          829000,
          1420000,
          996000,
          2900000,
          1899000,
          610000,
          1990000,
          575000,
          690000,
          3400000,
          1590000,
          1680000,
          550000,
          1555000,
          1950000,
          550000,
          1100000,
          459000,
          915000,
          1500000,
          1300000,
          1120000,
          1509628,
          1393638,
          950000,
          2150000,
          1860000,
          680000,
          1971156,
          1399878,
          620000,
          709500,
          960200,
          730100,
          1879740,
          2576700,
          1061907,
          5210790,
          2928900,
          699000,
          1095000,
          698105,
          730000,
          620000,
          709500,
          960200,
          730100,
          1879740,
          2576700,
          1061907,
          5210790,
          2928900,
          699000,
          1095000,
          698105,
          730000,
          599000,
          574000,
          565000,
          1100000,
          669900,
          1100000,
          725151,
          625000,
          799000,
          1999999,
          1699000,
          1150000,
          712080,
          975000,
          650000,
          899000,
          1046100,
          1650000,
          615000,
          790000,
          799000,
          649000,
          839000,
          690000,
          911500,
          680000,
          679000,
          999000,
          770000,
          689000,
          1015000,
          849000,
          770000,
          1259556,
          650000,
          1240000,
          854392,
          2000000,
          1299000,
          985000,
          2100000,
          1640000,
          625000,
          2290000,
          1080000,
          4380000,
          1299000,
          1990000,
          3800000,
          997000,
          4590000,
          3960000,
          6900000,
          1790000,
          1795000,
          1240000,
          2816250,
          2200000,
          3800000,
          975000,
          1790000,
          1990000,
          4200000,
          1599000,
          2767500,
          2530000,
          2000000,
          1450000,
          780000,
          720000,
          794200,
          860000,
          1130000,
          1200000,
          545000,
          1181250,
          780000,
          1620984,
          619920,
          827400,
          670000,
          2700000,
          435000,
          1980000,
          775000,
          1672100,
          650000,
          661000,
          770000,
          869000,
          1014000,
          629900,
          675000,
          779000,
          649000,
          529000,
          1120000,
          567000,
          720000,
          1270000,
          1799000,
          899000,
          600000,
          830000,
          1699000,
          695000,
          1200000,
          499000,
          720000,
          1650000,
          3200000,
          8900000,
          799000,
          770000,
          1953000,
          495000,
          5005000,
          2800000,
          950000,
          715000,
          620000,
          1390000,
          899000,
          870000,
          990000,
          1050000,
          935000,
          1250000,
          1650000,
          949000,
          730000,
          799997,
          2750000,
          1655000,
          4780000,
          980000,
          6500000,
          1480000,
          560000,
          1200000,
          735000,
          1075000,
          1520000
         ],
         "xaxis": "x",
         "yaxis": "y"
        },
        {
         "name": "size",
         "type": "histogram",
         "x": [
          72.18,
          60,
          72.18,
          47.11,
          86,
          49,
          64,
          58.73,
          59.7,
          59.76,
          118.57,
          58.97,
          51.44,
          46.81,
          46.81,
          58.97,
          40,
          51.65,
          53,
          60.46,
          80,
          53,
          54.2,
          70.21,
          82.3,
          106.96,
          54.35,
          99.5,
          47.79,
          47.92,
          56.2,
          28,
          122.81,
          108.21,
          64,
          61.5,
          91,
          55.75,
          36,
          59.5,
          49.87,
          69.38,
          135,
          50,
          173.66,
          140,
          252,
          64,
          56.7,
          37,
          42.92,
          40.75,
          56,
          107,
          52,
          145.1,
          43.1,
          135.6,
          84.69,
          97.8,
          91.61,
          136.3,
          124,
          168.58,
          87.36,
          59,
          56.2,
          31,
          113,
          47.5,
          64,
          40,
          282,
          202,
          30.5,
          146.46,
          37.5,
          38,
          126,
          74,
          85,
          21.73,
          85,
          79.12,
          21,
          61.9,
          26.9,
          55.5,
          95.7,
          77,
          81,
          38,
          76,
          64,
          107,
          116,
          48,
          106,
          56,
          25,
          35.05,
          60.27,
          47.76,
          69.62,
          98.16,
          45.97,
          168.09,
          112.65,
          52.72,
          72,
          32.47,
          62,
          25,
          35.05,
          60.27,
          47.76,
          69.62,
          98.16,
          45.97,
          168.09,
          112.65,
          52.72,
          72,
          32.47,
          62,
          41.3,
          38,
          54,
          83,
          41,
          77,
          49.33,
          34,
          62.3,
          140,
          130,
          85,
          55.2,
          59.5,
          34,
          80.5,
          63,
          146,
          42,
          63.2,
          64,
          52,
          64,
          77,
          105,
          135,
          120,
          120,
          105.79,
          96.62,
          70,
          57,
          96.62,
          146.46,
          46.5,
          53,
          55.48,
          104,
          66,
          49,
          167.1,
          101.36,
          42.2,
          155,
          49,
          233.5,
          63,
          137.7,
          189,
          45.4,
          203,
          193.46,
          476,
          90,
          82.39,
          57.4,
          112.65,
          90,
          186.35,
          49.6,
          121,
          154,
          189.63,
          87,
          123,
          115,
          104,
          66,
          53,
          38.62,
          36.1,
          35.73,
          59,
          63.05,
          21,
          62.55,
          48,
          85.45,
          29.52,
          39.4,
          48,
          117,
          22.7,
          117,
          56.5,
          72.7,
          25,
          26,
          46.08,
          41,
          63.38,
          31.09,
          40,
          47,
          37.14,
          40.74,
          81,
          31.69,
          48.07,
          65.19,
          53.3,
          37,
          22.22,
          42.4,
          135,
          30.3,
          40,
          24,
          48,
          76,
          197.46,
          165,
          38,
          38,
          60.17,
          23,
          182,
          120,
          48.21,
          36,
          30,
          59,
          40.25,
          30,
          36,
          64,
          53.5,
          47,
          61,
          43,
          56,
          40,
          109,
          77,
          186,
          58,
          262.5,
          80,
          34.55,
          75,
          49,
          53.75,
          75.85
         ],
         "xaxis": "x3",
         "yaxis": "y3"
        },
        {
         "name": "rooms",
         "type": "histogram",
         "x": [
          "3",
          "2",
          "3",
          "2",
          "3",
          "2",
          "3",
          "2",
          "3",
          "3",
          "4",
          "3",
          "3",
          "3",
          "3",
          "3",
          "2",
          "2",
          "3",
          "3",
          "4",
          "3",
          "2",
          "3",
          "3",
          "4",
          "2",
          "4",
          "2",
          "2",
          "3",
          "1",
          "4",
          "3",
          "4",
          "3",
          "3",
          "2",
          "2",
          "2",
          "3",
          "3",
          "5",
          "2",
          "4",
          "4",
          "6",
          "3",
          "2",
          "2",
          "2",
          "2",
          "3",
          "3",
          "2",
          "4",
          "2",
          "4",
          "3",
          "4",
          "4",
          "5",
          "4",
          "5",
          "3",
          "2",
          "3",
          "1",
          "4",
          "2",
          "2",
          "2",
          "7",
          "5",
          "1",
          "7",
          "2",
          "1",
          "4",
          "2",
          "2",
          "1",
          "3",
          "4",
          "1",
          "4",
          "1",
          "2",
          "4",
          "4",
          "5",
          "2",
          "3",
          "2",
          "4",
          "4",
          "3",
          "5",
          "2",
          "1",
          "1",
          "3",
          "2",
          "3",
          "3",
          "2",
          "5",
          "5",
          "2",
          "3",
          "2",
          "3",
          "1",
          "1",
          "3",
          "2",
          "3",
          "3",
          "2",
          "5",
          "5",
          "2",
          "3",
          "2",
          "3",
          "2",
          "2",
          "3",
          "3",
          "2",
          "3",
          "3",
          "2",
          "2",
          "4",
          "4",
          "3",
          "2",
          "2",
          "2",
          "2",
          "4",
          "4",
          "2",
          "3",
          "3",
          "3",
          "3",
          "3",
          "4",
          "5",
          "5",
          "5",
          "4",
          "4",
          "3",
          "3",
          "4",
          "4",
          "2",
          "3",
          "2",
          "5",
          "3",
          "2",
          "4",
          "4",
          "2",
          "5",
          "2",
          "5",
          "2",
          "3",
          "5",
          "2",
          "6",
          "5",
          "8",
          "3",
          "4",
          "2",
          "4",
          "3",
          "5",
          "2",
          "4",
          "4",
          "5",
          "3",
          "4",
          "4",
          "4",
          "3",
          "3",
          "2",
          "2",
          "2",
          "3",
          "3",
          "1",
          "3",
          "3",
          "4",
          "1",
          "2",
          "2",
          "4",
          "1",
          "3",
          "3",
          "3",
          "1",
          "1",
          "2",
          "2",
          "3",
          "1",
          "2",
          "2",
          "2",
          "2",
          "5",
          "2",
          "3",
          "3",
          "3",
          "2",
          "1",
          "1",
          "3",
          "1",
          "2",
          "1",
          "3",
          "3",
          "4",
          "4",
          "2",
          "2",
          "2",
          "1",
          "5",
          "3",
          "2",
          "1",
          "1",
          "3",
          "2",
          "1",
          "1",
          "2",
          "3",
          "2",
          "2",
          "2",
          "3",
          "2",
          "3",
          "3",
          "4",
          "3",
          "5",
          "3",
          "1",
          "3",
          "3",
          "3",
          "3"
         ],
         "xaxis": "x5",
         "yaxis": "y5"
        },
        {
         "name": "neighbourhood",
         "type": "histogram",
         "x": [
          "Bemowo",
          "Bemowo",
          "Bemowo",
          "Bemowo",
          "Bemowo",
          "Bemowo",
          "Bemowo",
          "Bemowo",
          "Bemowo",
          "Bemowo",
          "Białołęka",
          "Białołęka",
          "Białołęka",
          "Białołęka",
          "Białołęka",
          "Białołęka",
          "Białołęka",
          "Białołęka",
          "Białołęka",
          "Białołęka",
          "Bielany",
          "Bielany",
          "Bielany",
          "Bielany",
          "Bielany",
          "Bielany",
          "Bielany",
          "Bielany",
          "Mokotów",
          "Mokotów",
          "Mokotów",
          "Mokotów",
          "Mokotów",
          "Mokotów",
          "Mokotów",
          "Mokotów",
          "Mokotów",
          "Mokotów",
          "Mokotów",
          "Mokotów",
          "Mokotów",
          "Mokotów",
          "Mokotów",
          "Mokotów",
          "Mokotów",
          "Mokotów",
          "Mokotów",
          "Mokotów",
          "Mokotów",
          "Mokotów",
          "Mokotów",
          "Mokotów",
          "Mokotów",
          "Mokotów",
          "Mokotów",
          "Mokotów",
          "Mokotów",
          "Mokotów",
          "Mokotów",
          "Mokotów",
          "Mokotów",
          "Mokotów",
          "Mokotów",
          "Mokotów",
          "Mokotów",
          "Mokotów",
          "Mokotów",
          "Mokotów",
          "Mokotów",
          "Mokotów",
          "Mokotów",
          "Mokotów",
          "Mokotów",
          "Mokotów",
          "Mokotów",
          "Mokotów",
          "Mokotów",
          "Mokotów",
          "Mokotów",
          "Mokotów",
          "Mokotów",
          "Mokotów",
          "Mokotów",
          "Mokotów",
          "Mokotów",
          "Ochota",
          "Ochota",
          "Ochota",
          "Ochota",
          "Ochota",
          "Ochota",
          "Ochota",
          "Ochota",
          "Ochota",
          "Ochota",
          "Ochota",
          "Ochota",
          "Ochota",
          "Ochota",
          "Praga",
          "Praga",
          "Praga",
          "Praga",
          "Praga",
          "Praga",
          "Praga",
          "Praga",
          "Praga",
          "Praga",
          "Praga",
          "Praga",
          "Praga",
          "Praga",
          "Praga",
          "Praga",
          "Praga",
          "Praga",
          "Praga",
          "Praga",
          "Praga",
          "Praga",
          "Praga",
          "Praga",
          "Praga",
          "Praga",
          "Rembertów",
          "Targówek",
          "Targówek",
          "Targówek",
          "Targówek",
          "Targówek",
          "Ursus",
          "Ursynów",
          "Ursynów",
          "Ursynów",
          "Ursynów",
          "Ursynów",
          "Ursynów",
          "Ursynów",
          "Ursynów",
          "Ursynów",
          "Ursynów",
          "Ursynów",
          "Ursynów",
          "Ursynów",
          "Ursynów",
          "Ursynów",
          "Ursynów",
          "Wawer",
          "Wawer",
          "Wawer",
          "Wawer",
          "Wawer",
          "Wesoła",
          "Wesoła",
          "Wesoła",
          "Wesoła",
          "Wesoła",
          "Wilanów",
          "Wilanów",
          "Wilanów",
          "Wilanów",
          "Wilanów",
          "Wilanów",
          "Wilanów",
          "Wilanów",
          "Wilanów",
          "Wilanów",
          "Wilanów",
          "Wilanów",
          "Wilanów",
          "Wilanów",
          "Wilanów",
          "Wilanów",
          "Wilanów",
          "Wilanów",
          "Wilanów",
          "Wilanów",
          "Wilanów",
          "Wilanów",
          "Wilanów",
          "Wilanów",
          "Wilanów",
          "Wilanów",
          "Wilanów",
          "Wilanów",
          "Wilanów",
          "Wilanów",
          "Wilanów",
          "Wilanów",
          "Wilanów",
          "Wilanów",
          "Wola",
          "Wola",
          "Wola",
          "Wola",
          "Wola",
          "Wola",
          "Wola",
          "Wola",
          "Wola",
          "Wola",
          "Wola",
          "Wola",
          "Wola",
          "Wola",
          "Wola",
          "Wola",
          "Wola",
          "Wola",
          "Wola",
          "Wola",
          "Wola",
          "Wola",
          "Wola",
          "Wola",
          "Wola",
          "Wola",
          "Wola",
          "Wola",
          "Włochy",
          "Włochy",
          "Włochy",
          "Śródmieście",
          "Śródmieście",
          "Śródmieście",
          "Śródmieście",
          "Śródmieście",
          "Śródmieście",
          "Śródmieście",
          "Śródmieście",
          "Śródmieście",
          "Śródmieście",
          "Śródmieście",
          "Śródmieście",
          "Śródmieście",
          "Śródmieście",
          "Śródmieście",
          "Śródmieście",
          "Śródmieście",
          "Śródmieście",
          "Śródmieście",
          "Śródmieście",
          "Śródmieście",
          "Śródmieście",
          "Śródmieście",
          "Śródmieście",
          "Śródmieście",
          "Śródmieście",
          "Śródmieście",
          "Śródmieście",
          "Śródmieście",
          "Śródmieście",
          "Śródmieście",
          "Żoliborz",
          "Żoliborz",
          "Żoliborz",
          "Żoliborz",
          "Żoliborz",
          "Żoliborz",
          "Żoliborz",
          "Żoliborz",
          "Żoliborz",
          "Żoliborz",
          "Żoliborz",
          "Żoliborz",
          "Żoliborz",
          "Żoliborz"
         ],
         "xaxis": "x7",
         "yaxis": "y7"
        },
        {
         "name": "price",
         "type": "box",
         "x": [
          1270000,
          785000,
          1230000,
          840000,
          1300000,
          725200,
          748000,
          990000,
          685000,
          655000,
          1075000,
          572009,
          504112,
          463419,
          528953,
          563164,
          549000,
          593975,
          610000,
          795000,
          890000,
          750000,
          921000,
          945000,
          1350000,
          2250000,
          680000,
          1134300,
          987100,
          989800,
          850000,
          500000,
          2200000,
          1990000,
          860000,
          760000,
          1420000,
          799000,
          570000,
          850000,
          790000,
          1352910,
          3000000,
          845000,
          4900000,
          2250000,
          6500000,
          1540000,
          1059000,
          750000,
          855000,
          830000,
          840000,
          1900000,
          1200000,
          1625000,
          1350000,
          3500000,
          2780000,
          3171960,
          1450000,
          2499000,
          3348810,
          5050000,
          1980000,
          950000,
          840000,
          459000,
          2250000,
          829000,
          1420000,
          996000,
          2900000,
          1899000,
          610000,
          1990000,
          575000,
          690000,
          3400000,
          1590000,
          1680000,
          550000,
          1555000,
          1950000,
          550000,
          1100000,
          459000,
          915000,
          1500000,
          1300000,
          1120000,
          1509628,
          1393638,
          950000,
          2150000,
          1860000,
          680000,
          1971156,
          1399878,
          620000,
          709500,
          960200,
          730100,
          1879740,
          2576700,
          1061907,
          5210790,
          2928900,
          699000,
          1095000,
          698105,
          730000,
          620000,
          709500,
          960200,
          730100,
          1879740,
          2576700,
          1061907,
          5210790,
          2928900,
          699000,
          1095000,
          698105,
          730000,
          599000,
          574000,
          565000,
          1100000,
          669900,
          1100000,
          725151,
          625000,
          799000,
          1999999,
          1699000,
          1150000,
          712080,
          975000,
          650000,
          899000,
          1046100,
          1650000,
          615000,
          790000,
          799000,
          649000,
          839000,
          690000,
          911500,
          680000,
          679000,
          999000,
          770000,
          689000,
          1015000,
          849000,
          770000,
          1259556,
          650000,
          1240000,
          854392,
          2000000,
          1299000,
          985000,
          2100000,
          1640000,
          625000,
          2290000,
          1080000,
          4380000,
          1299000,
          1990000,
          3800000,
          997000,
          4590000,
          3960000,
          6900000,
          1790000,
          1795000,
          1240000,
          2816250,
          2200000,
          3800000,
          975000,
          1790000,
          1990000,
          4200000,
          1599000,
          2767500,
          2530000,
          2000000,
          1450000,
          780000,
          720000,
          794200,
          860000,
          1130000,
          1200000,
          545000,
          1181250,
          780000,
          1620984,
          619920,
          827400,
          670000,
          2700000,
          435000,
          1980000,
          775000,
          1672100,
          650000,
          661000,
          770000,
          869000,
          1014000,
          629900,
          675000,
          779000,
          649000,
          529000,
          1120000,
          567000,
          720000,
          1270000,
          1799000,
          899000,
          600000,
          830000,
          1699000,
          695000,
          1200000,
          499000,
          720000,
          1650000,
          3200000,
          8900000,
          799000,
          770000,
          1953000,
          495000,
          5005000,
          2800000,
          950000,
          715000,
          620000,
          1390000,
          899000,
          870000,
          990000,
          1050000,
          935000,
          1250000,
          1650000,
          949000,
          730000,
          799997,
          2750000,
          1655000,
          4780000,
          980000,
          6500000,
          1480000,
          560000,
          1200000,
          735000,
          1075000,
          1520000
         ],
         "xaxis": "x2",
         "yaxis": "y2"
        },
        {
         "name": "size",
         "type": "box",
         "x": [
          72.18,
          60,
          72.18,
          47.11,
          86,
          49,
          64,
          58.73,
          59.7,
          59.76,
          118.57,
          58.97,
          51.44,
          46.81,
          46.81,
          58.97,
          40,
          51.65,
          53,
          60.46,
          80,
          53,
          54.2,
          70.21,
          82.3,
          106.96,
          54.35,
          99.5,
          47.79,
          47.92,
          56.2,
          28,
          122.81,
          108.21,
          64,
          61.5,
          91,
          55.75,
          36,
          59.5,
          49.87,
          69.38,
          135,
          50,
          173.66,
          140,
          252,
          64,
          56.7,
          37,
          42.92,
          40.75,
          56,
          107,
          52,
          145.1,
          43.1,
          135.6,
          84.69,
          97.8,
          91.61,
          136.3,
          124,
          168.58,
          87.36,
          59,
          56.2,
          31,
          113,
          47.5,
          64,
          40,
          282,
          202,
          30.5,
          146.46,
          37.5,
          38,
          126,
          74,
          85,
          21.73,
          85,
          79.12,
          21,
          61.9,
          26.9,
          55.5,
          95.7,
          77,
          81,
          38,
          76,
          64,
          107,
          116,
          48,
          106,
          56,
          25,
          35.05,
          60.27,
          47.76,
          69.62,
          98.16,
          45.97,
          168.09,
          112.65,
          52.72,
          72,
          32.47,
          62,
          25,
          35.05,
          60.27,
          47.76,
          69.62,
          98.16,
          45.97,
          168.09,
          112.65,
          52.72,
          72,
          32.47,
          62,
          41.3,
          38,
          54,
          83,
          41,
          77,
          49.33,
          34,
          62.3,
          140,
          130,
          85,
          55.2,
          59.5,
          34,
          80.5,
          63,
          146,
          42,
          63.2,
          64,
          52,
          64,
          77,
          105,
          135,
          120,
          120,
          105.79,
          96.62,
          70,
          57,
          96.62,
          146.46,
          46.5,
          53,
          55.48,
          104,
          66,
          49,
          167.1,
          101.36,
          42.2,
          155,
          49,
          233.5,
          63,
          137.7,
          189,
          45.4,
          203,
          193.46,
          476,
          90,
          82.39,
          57.4,
          112.65,
          90,
          186.35,
          49.6,
          121,
          154,
          189.63,
          87,
          123,
          115,
          104,
          66,
          53,
          38.62,
          36.1,
          35.73,
          59,
          63.05,
          21,
          62.55,
          48,
          85.45,
          29.52,
          39.4,
          48,
          117,
          22.7,
          117,
          56.5,
          72.7,
          25,
          26,
          46.08,
          41,
          63.38,
          31.09,
          40,
          47,
          37.14,
          40.74,
          81,
          31.69,
          48.07,
          65.19,
          53.3,
          37,
          22.22,
          42.4,
          135,
          30.3,
          40,
          24,
          48,
          76,
          197.46,
          165,
          38,
          38,
          60.17,
          23,
          182,
          120,
          48.21,
          36,
          30,
          59,
          40.25,
          30,
          36,
          64,
          53.5,
          47,
          61,
          43,
          56,
          40,
          109,
          77,
          186,
          58,
          262.5,
          80,
          34.55,
          75,
          49,
          53.75,
          75.85
         ],
         "xaxis": "x4",
         "yaxis": "y4"
        },
        {
         "name": "rooms",
         "type": "box",
         "x": [
          "3",
          "2",
          "3",
          "2",
          "3",
          "2",
          "3",
          "2",
          "3",
          "3",
          "4",
          "3",
          "3",
          "3",
          "3",
          "3",
          "2",
          "2",
          "3",
          "3",
          "4",
          "3",
          "2",
          "3",
          "3",
          "4",
          "2",
          "4",
          "2",
          "2",
          "3",
          "1",
          "4",
          "3",
          "4",
          "3",
          "3",
          "2",
          "2",
          "2",
          "3",
          "3",
          "5",
          "2",
          "4",
          "4",
          "6",
          "3",
          "2",
          "2",
          "2",
          "2",
          "3",
          "3",
          "2",
          "4",
          "2",
          "4",
          "3",
          "4",
          "4",
          "5",
          "4",
          "5",
          "3",
          "2",
          "3",
          "1",
          "4",
          "2",
          "2",
          "2",
          "7",
          "5",
          "1",
          "7",
          "2",
          "1",
          "4",
          "2",
          "2",
          "1",
          "3",
          "4",
          "1",
          "4",
          "1",
          "2",
          "4",
          "4",
          "5",
          "2",
          "3",
          "2",
          "4",
          "4",
          "3",
          "5",
          "2",
          "1",
          "1",
          "3",
          "2",
          "3",
          "3",
          "2",
          "5",
          "5",
          "2",
          "3",
          "2",
          "3",
          "1",
          "1",
          "3",
          "2",
          "3",
          "3",
          "2",
          "5",
          "5",
          "2",
          "3",
          "2",
          "3",
          "2",
          "2",
          "3",
          "3",
          "2",
          "3",
          "3",
          "2",
          "2",
          "4",
          "4",
          "3",
          "2",
          "2",
          "2",
          "2",
          "4",
          "4",
          "2",
          "3",
          "3",
          "3",
          "3",
          "3",
          "4",
          "5",
          "5",
          "5",
          "4",
          "4",
          "3",
          "3",
          "4",
          "4",
          "2",
          "3",
          "2",
          "5",
          "3",
          "2",
          "4",
          "4",
          "2",
          "5",
          "2",
          "5",
          "2",
          "3",
          "5",
          "2",
          "6",
          "5",
          "8",
          "3",
          "4",
          "2",
          "4",
          "3",
          "5",
          "2",
          "4",
          "4",
          "5",
          "3",
          "4",
          "4",
          "4",
          "3",
          "3",
          "2",
          "2",
          "2",
          "3",
          "3",
          "1",
          "3",
          "3",
          "4",
          "1",
          "2",
          "2",
          "4",
          "1",
          "3",
          "3",
          "3",
          "1",
          "1",
          "2",
          "2",
          "3",
          "1",
          "2",
          "2",
          "2",
          "2",
          "5",
          "2",
          "3",
          "3",
          "3",
          "2",
          "1",
          "1",
          "3",
          "1",
          "2",
          "1",
          "3",
          "3",
          "4",
          "4",
          "2",
          "2",
          "2",
          "1",
          "5",
          "3",
          "2",
          "1",
          "1",
          "3",
          "2",
          "1",
          "1",
          "2",
          "3",
          "2",
          "2",
          "2",
          "3",
          "2",
          "3",
          "3",
          "4",
          "3",
          "5",
          "3",
          "1",
          "3",
          "3",
          "3",
          "3"
         ],
         "xaxis": "x6",
         "yaxis": "y6"
        },
        {
         "name": "neighbourhood",
         "type": "box",
         "x": [
          "Bemowo",
          "Bemowo",
          "Bemowo",
          "Bemowo",
          "Bemowo",
          "Bemowo",
          "Bemowo",
          "Bemowo",
          "Bemowo",
          "Bemowo",
          "Białołęka",
          "Białołęka",
          "Białołęka",
          "Białołęka",
          "Białołęka",
          "Białołęka",
          "Białołęka",
          "Białołęka",
          "Białołęka",
          "Białołęka",
          "Bielany",
          "Bielany",
          "Bielany",
          "Bielany",
          "Bielany",
          "Bielany",
          "Bielany",
          "Bielany",
          "Mokotów",
          "Mokotów",
          "Mokotów",
          "Mokotów",
          "Mokotów",
          "Mokotów",
          "Mokotów",
          "Mokotów",
          "Mokotów",
          "Mokotów",
          "Mokotów",
          "Mokotów",
          "Mokotów",
          "Mokotów",
          "Mokotów",
          "Mokotów",
          "Mokotów",
          "Mokotów",
          "Mokotów",
          "Mokotów",
          "Mokotów",
          "Mokotów",
          "Mokotów",
          "Mokotów",
          "Mokotów",
          "Mokotów",
          "Mokotów",
          "Mokotów",
          "Mokotów",
          "Mokotów",
          "Mokotów",
          "Mokotów",
          "Mokotów",
          "Mokotów",
          "Mokotów",
          "Mokotów",
          "Mokotów",
          "Mokotów",
          "Mokotów",
          "Mokotów",
          "Mokotów",
          "Mokotów",
          "Mokotów",
          "Mokotów",
          "Mokotów",
          "Mokotów",
          "Mokotów",
          "Mokotów",
          "Mokotów",
          "Mokotów",
          "Mokotów",
          "Mokotów",
          "Mokotów",
          "Mokotów",
          "Mokotów",
          "Mokotów",
          "Mokotów",
          "Ochota",
          "Ochota",
          "Ochota",
          "Ochota",
          "Ochota",
          "Ochota",
          "Ochota",
          "Ochota",
          "Ochota",
          "Ochota",
          "Ochota",
          "Ochota",
          "Ochota",
          "Ochota",
          "Praga",
          "Praga",
          "Praga",
          "Praga",
          "Praga",
          "Praga",
          "Praga",
          "Praga",
          "Praga",
          "Praga",
          "Praga",
          "Praga",
          "Praga",
          "Praga",
          "Praga",
          "Praga",
          "Praga",
          "Praga",
          "Praga",
          "Praga",
          "Praga",
          "Praga",
          "Praga",
          "Praga",
          "Praga",
          "Praga",
          "Rembertów",
          "Targówek",
          "Targówek",
          "Targówek",
          "Targówek",
          "Targówek",
          "Ursus",
          "Ursynów",
          "Ursynów",
          "Ursynów",
          "Ursynów",
          "Ursynów",
          "Ursynów",
          "Ursynów",
          "Ursynów",
          "Ursynów",
          "Ursynów",
          "Ursynów",
          "Ursynów",
          "Ursynów",
          "Ursynów",
          "Ursynów",
          "Ursynów",
          "Wawer",
          "Wawer",
          "Wawer",
          "Wawer",
          "Wawer",
          "Wesoła",
          "Wesoła",
          "Wesoła",
          "Wesoła",
          "Wesoła",
          "Wilanów",
          "Wilanów",
          "Wilanów",
          "Wilanów",
          "Wilanów",
          "Wilanów",
          "Wilanów",
          "Wilanów",
          "Wilanów",
          "Wilanów",
          "Wilanów",
          "Wilanów",
          "Wilanów",
          "Wilanów",
          "Wilanów",
          "Wilanów",
          "Wilanów",
          "Wilanów",
          "Wilanów",
          "Wilanów",
          "Wilanów",
          "Wilanów",
          "Wilanów",
          "Wilanów",
          "Wilanów",
          "Wilanów",
          "Wilanów",
          "Wilanów",
          "Wilanów",
          "Wilanów",
          "Wilanów",
          "Wilanów",
          "Wilanów",
          "Wilanów",
          "Wola",
          "Wola",
          "Wola",
          "Wola",
          "Wola",
          "Wola",
          "Wola",
          "Wola",
          "Wola",
          "Wola",
          "Wola",
          "Wola",
          "Wola",
          "Wola",
          "Wola",
          "Wola",
          "Wola",
          "Wola",
          "Wola",
          "Wola",
          "Wola",
          "Wola",
          "Wola",
          "Wola",
          "Wola",
          "Wola",
          "Wola",
          "Wola",
          "Włochy",
          "Włochy",
          "Włochy",
          "Śródmieście",
          "Śródmieście",
          "Śródmieście",
          "Śródmieście",
          "Śródmieście",
          "Śródmieście",
          "Śródmieście",
          "Śródmieście",
          "Śródmieście",
          "Śródmieście",
          "Śródmieście",
          "Śródmieście",
          "Śródmieście",
          "Śródmieście",
          "Śródmieście",
          "Śródmieście",
          "Śródmieście",
          "Śródmieście",
          "Śródmieście",
          "Śródmieście",
          "Śródmieście",
          "Śródmieście",
          "Śródmieście",
          "Śródmieście",
          "Śródmieście",
          "Śródmieście",
          "Śródmieście",
          "Śródmieście",
          "Śródmieście",
          "Śródmieście",
          "Śródmieście",
          "Żoliborz",
          "Żoliborz",
          "Żoliborz",
          "Żoliborz",
          "Żoliborz",
          "Żoliborz",
          "Żoliborz",
          "Żoliborz",
          "Żoliborz",
          "Żoliborz",
          "Żoliborz",
          "Żoliborz",
          "Żoliborz",
          "Żoliborz"
         ],
         "xaxis": "x8",
         "yaxis": "y8"
        }
       ],
       "layout": {
        "height": 800,
        "template": {
         "data": {
          "bar": [
           {
            "error_x": {
             "color": "#2a3f5f"
            },
            "error_y": {
             "color": "#2a3f5f"
            },
            "marker": {
             "line": {
              "color": "#E5ECF6",
              "width": 0.5
             },
             "pattern": {
              "fillmode": "overlay",
              "size": 10,
              "solidity": 0.2
             }
            },
            "type": "bar"
           }
          ],
          "barpolar": [
           {
            "marker": {
             "line": {
              "color": "#E5ECF6",
              "width": 0.5
             },
             "pattern": {
              "fillmode": "overlay",
              "size": 10,
              "solidity": 0.2
             }
            },
            "type": "barpolar"
           }
          ],
          "carpet": [
           {
            "aaxis": {
             "endlinecolor": "#2a3f5f",
             "gridcolor": "white",
             "linecolor": "white",
             "minorgridcolor": "white",
             "startlinecolor": "#2a3f5f"
            },
            "baxis": {
             "endlinecolor": "#2a3f5f",
             "gridcolor": "white",
             "linecolor": "white",
             "minorgridcolor": "white",
             "startlinecolor": "#2a3f5f"
            },
            "type": "carpet"
           }
          ],
          "choropleth": [
           {
            "colorbar": {
             "outlinewidth": 0,
             "ticks": ""
            },
            "type": "choropleth"
           }
          ],
          "contour": [
           {
            "colorbar": {
             "outlinewidth": 0,
             "ticks": ""
            },
            "colorscale": [
             [
              0,
              "#0d0887"
             ],
             [
              0.1111111111111111,
              "#46039f"
             ],
             [
              0.2222222222222222,
              "#7201a8"
             ],
             [
              0.3333333333333333,
              "#9c179e"
             ],
             [
              0.4444444444444444,
              "#bd3786"
             ],
             [
              0.5555555555555556,
              "#d8576b"
             ],
             [
              0.6666666666666666,
              "#ed7953"
             ],
             [
              0.7777777777777778,
              "#fb9f3a"
             ],
             [
              0.8888888888888888,
              "#fdca26"
             ],
             [
              1,
              "#f0f921"
             ]
            ],
            "type": "contour"
           }
          ],
          "contourcarpet": [
           {
            "colorbar": {
             "outlinewidth": 0,
             "ticks": ""
            },
            "type": "contourcarpet"
           }
          ],
          "heatmap": [
           {
            "colorbar": {
             "outlinewidth": 0,
             "ticks": ""
            },
            "colorscale": [
             [
              0,
              "#0d0887"
             ],
             [
              0.1111111111111111,
              "#46039f"
             ],
             [
              0.2222222222222222,
              "#7201a8"
             ],
             [
              0.3333333333333333,
              "#9c179e"
             ],
             [
              0.4444444444444444,
              "#bd3786"
             ],
             [
              0.5555555555555556,
              "#d8576b"
             ],
             [
              0.6666666666666666,
              "#ed7953"
             ],
             [
              0.7777777777777778,
              "#fb9f3a"
             ],
             [
              0.8888888888888888,
              "#fdca26"
             ],
             [
              1,
              "#f0f921"
             ]
            ],
            "type": "heatmap"
           }
          ],
          "heatmapgl": [
           {
            "colorbar": {
             "outlinewidth": 0,
             "ticks": ""
            },
            "colorscale": [
             [
              0,
              "#0d0887"
             ],
             [
              0.1111111111111111,
              "#46039f"
             ],
             [
              0.2222222222222222,
              "#7201a8"
             ],
             [
              0.3333333333333333,
              "#9c179e"
             ],
             [
              0.4444444444444444,
              "#bd3786"
             ],
             [
              0.5555555555555556,
              "#d8576b"
             ],
             [
              0.6666666666666666,
              "#ed7953"
             ],
             [
              0.7777777777777778,
              "#fb9f3a"
             ],
             [
              0.8888888888888888,
              "#fdca26"
             ],
             [
              1,
              "#f0f921"
             ]
            ],
            "type": "heatmapgl"
           }
          ],
          "histogram": [
           {
            "marker": {
             "pattern": {
              "fillmode": "overlay",
              "size": 10,
              "solidity": 0.2
             }
            },
            "type": "histogram"
           }
          ],
          "histogram2d": [
           {
            "colorbar": {
             "outlinewidth": 0,
             "ticks": ""
            },
            "colorscale": [
             [
              0,
              "#0d0887"
             ],
             [
              0.1111111111111111,
              "#46039f"
             ],
             [
              0.2222222222222222,
              "#7201a8"
             ],
             [
              0.3333333333333333,
              "#9c179e"
             ],
             [
              0.4444444444444444,
              "#bd3786"
             ],
             [
              0.5555555555555556,
              "#d8576b"
             ],
             [
              0.6666666666666666,
              "#ed7953"
             ],
             [
              0.7777777777777778,
              "#fb9f3a"
             ],
             [
              0.8888888888888888,
              "#fdca26"
             ],
             [
              1,
              "#f0f921"
             ]
            ],
            "type": "histogram2d"
           }
          ],
          "histogram2dcontour": [
           {
            "colorbar": {
             "outlinewidth": 0,
             "ticks": ""
            },
            "colorscale": [
             [
              0,
              "#0d0887"
             ],
             [
              0.1111111111111111,
              "#46039f"
             ],
             [
              0.2222222222222222,
              "#7201a8"
             ],
             [
              0.3333333333333333,
              "#9c179e"
             ],
             [
              0.4444444444444444,
              "#bd3786"
             ],
             [
              0.5555555555555556,
              "#d8576b"
             ],
             [
              0.6666666666666666,
              "#ed7953"
             ],
             [
              0.7777777777777778,
              "#fb9f3a"
             ],
             [
              0.8888888888888888,
              "#fdca26"
             ],
             [
              1,
              "#f0f921"
             ]
            ],
            "type": "histogram2dcontour"
           }
          ],
          "mesh3d": [
           {
            "colorbar": {
             "outlinewidth": 0,
             "ticks": ""
            },
            "type": "mesh3d"
           }
          ],
          "parcoords": [
           {
            "line": {
             "colorbar": {
              "outlinewidth": 0,
              "ticks": ""
             }
            },
            "type": "parcoords"
           }
          ],
          "pie": [
           {
            "automargin": true,
            "type": "pie"
           }
          ],
          "scatter": [
           {
            "fillpattern": {
             "fillmode": "overlay",
             "size": 10,
             "solidity": 0.2
            },
            "type": "scatter"
           }
          ],
          "scatter3d": [
           {
            "line": {
             "colorbar": {
              "outlinewidth": 0,
              "ticks": ""
             }
            },
            "marker": {
             "colorbar": {
              "outlinewidth": 0,
              "ticks": ""
             }
            },
            "type": "scatter3d"
           }
          ],
          "scattercarpet": [
           {
            "marker": {
             "colorbar": {
              "outlinewidth": 0,
              "ticks": ""
             }
            },
            "type": "scattercarpet"
           }
          ],
          "scattergeo": [
           {
            "marker": {
             "colorbar": {
              "outlinewidth": 0,
              "ticks": ""
             }
            },
            "type": "scattergeo"
           }
          ],
          "scattergl": [
           {
            "marker": {
             "colorbar": {
              "outlinewidth": 0,
              "ticks": ""
             }
            },
            "type": "scattergl"
           }
          ],
          "scattermapbox": [
           {
            "marker": {
             "colorbar": {
              "outlinewidth": 0,
              "ticks": ""
             }
            },
            "type": "scattermapbox"
           }
          ],
          "scatterpolar": [
           {
            "marker": {
             "colorbar": {
              "outlinewidth": 0,
              "ticks": ""
             }
            },
            "type": "scatterpolar"
           }
          ],
          "scatterpolargl": [
           {
            "marker": {
             "colorbar": {
              "outlinewidth": 0,
              "ticks": ""
             }
            },
            "type": "scatterpolargl"
           }
          ],
          "scatterternary": [
           {
            "marker": {
             "colorbar": {
              "outlinewidth": 0,
              "ticks": ""
             }
            },
            "type": "scatterternary"
           }
          ],
          "surface": [
           {
            "colorbar": {
             "outlinewidth": 0,
             "ticks": ""
            },
            "colorscale": [
             [
              0,
              "#0d0887"
             ],
             [
              0.1111111111111111,
              "#46039f"
             ],
             [
              0.2222222222222222,
              "#7201a8"
             ],
             [
              0.3333333333333333,
              "#9c179e"
             ],
             [
              0.4444444444444444,
              "#bd3786"
             ],
             [
              0.5555555555555556,
              "#d8576b"
             ],
             [
              0.6666666666666666,
              "#ed7953"
             ],
             [
              0.7777777777777778,
              "#fb9f3a"
             ],
             [
              0.8888888888888888,
              "#fdca26"
             ],
             [
              1,
              "#f0f921"
             ]
            ],
            "type": "surface"
           }
          ],
          "table": [
           {
            "cells": {
             "fill": {
              "color": "#EBF0F8"
             },
             "line": {
              "color": "white"
             }
            },
            "header": {
             "fill": {
              "color": "#C8D4E3"
             },
             "line": {
              "color": "white"
             }
            },
            "type": "table"
           }
          ]
         },
         "layout": {
          "annotationdefaults": {
           "arrowcolor": "#2a3f5f",
           "arrowhead": 0,
           "arrowwidth": 1
          },
          "autotypenumbers": "strict",
          "coloraxis": {
           "colorbar": {
            "outlinewidth": 0,
            "ticks": ""
           }
          },
          "colorscale": {
           "diverging": [
            [
             0,
             "#8e0152"
            ],
            [
             0.1,
             "#c51b7d"
            ],
            [
             0.2,
             "#de77ae"
            ],
            [
             0.3,
             "#f1b6da"
            ],
            [
             0.4,
             "#fde0ef"
            ],
            [
             0.5,
             "#f7f7f7"
            ],
            [
             0.6,
             "#e6f5d0"
            ],
            [
             0.7,
             "#b8e186"
            ],
            [
             0.8,
             "#7fbc41"
            ],
            [
             0.9,
             "#4d9221"
            ],
            [
             1,
             "#276419"
            ]
           ],
           "sequential": [
            [
             0,
             "#0d0887"
            ],
            [
             0.1111111111111111,
             "#46039f"
            ],
            [
             0.2222222222222222,
             "#7201a8"
            ],
            [
             0.3333333333333333,
             "#9c179e"
            ],
            [
             0.4444444444444444,
             "#bd3786"
            ],
            [
             0.5555555555555556,
             "#d8576b"
            ],
            [
             0.6666666666666666,
             "#ed7953"
            ],
            [
             0.7777777777777778,
             "#fb9f3a"
            ],
            [
             0.8888888888888888,
             "#fdca26"
            ],
            [
             1,
             "#f0f921"
            ]
           ],
           "sequentialminus": [
            [
             0,
             "#0d0887"
            ],
            [
             0.1111111111111111,
             "#46039f"
            ],
            [
             0.2222222222222222,
             "#7201a8"
            ],
            [
             0.3333333333333333,
             "#9c179e"
            ],
            [
             0.4444444444444444,
             "#bd3786"
            ],
            [
             0.5555555555555556,
             "#d8576b"
            ],
            [
             0.6666666666666666,
             "#ed7953"
            ],
            [
             0.7777777777777778,
             "#fb9f3a"
            ],
            [
             0.8888888888888888,
             "#fdca26"
            ],
            [
             1,
             "#f0f921"
            ]
           ]
          },
          "colorway": [
           "#636efa",
           "#EF553B",
           "#00cc96",
           "#ab63fa",
           "#FFA15A",
           "#19d3f3",
           "#FF6692",
           "#B6E880",
           "#FF97FF",
           "#FECB52"
          ],
          "font": {
           "color": "#2a3f5f"
          },
          "geo": {
           "bgcolor": "white",
           "lakecolor": "white",
           "landcolor": "#E5ECF6",
           "showlakes": true,
           "showland": true,
           "subunitcolor": "white"
          },
          "hoverlabel": {
           "align": "left"
          },
          "hovermode": "closest",
          "mapbox": {
           "style": "light"
          },
          "paper_bgcolor": "white",
          "plot_bgcolor": "#E5ECF6",
          "polar": {
           "angularaxis": {
            "gridcolor": "white",
            "linecolor": "white",
            "ticks": ""
           },
           "bgcolor": "#E5ECF6",
           "radialaxis": {
            "gridcolor": "white",
            "linecolor": "white",
            "ticks": ""
           }
          },
          "scene": {
           "xaxis": {
            "backgroundcolor": "#E5ECF6",
            "gridcolor": "white",
            "gridwidth": 2,
            "linecolor": "white",
            "showbackground": true,
            "ticks": "",
            "zerolinecolor": "white"
           },
           "yaxis": {
            "backgroundcolor": "#E5ECF6",
            "gridcolor": "white",
            "gridwidth": 2,
            "linecolor": "white",
            "showbackground": true,
            "ticks": "",
            "zerolinecolor": "white"
           },
           "zaxis": {
            "backgroundcolor": "#E5ECF6",
            "gridcolor": "white",
            "gridwidth": 2,
            "linecolor": "white",
            "showbackground": true,
            "ticks": "",
            "zerolinecolor": "white"
           }
          },
          "shapedefaults": {
           "line": {
            "color": "#2a3f5f"
           }
          },
          "ternary": {
           "aaxis": {
            "gridcolor": "white",
            "linecolor": "white",
            "ticks": ""
           },
           "baxis": {
            "gridcolor": "white",
            "linecolor": "white",
            "ticks": ""
           },
           "bgcolor": "#E5ECF6",
           "caxis": {
            "gridcolor": "white",
            "linecolor": "white",
            "ticks": ""
           }
          },
          "title": {
           "x": 0.05
          },
          "xaxis": {
           "automargin": true,
           "gridcolor": "white",
           "linecolor": "white",
           "ticks": "",
           "title": {
            "standoff": 15
           },
           "zerolinecolor": "white",
           "zerolinewidth": 2
          },
          "yaxis": {
           "automargin": true,
           "gridcolor": "white",
           "linecolor": "white",
           "ticks": "",
           "title": {
            "standoff": 15
           },
           "zerolinecolor": "white",
           "zerolinewidth": 2
          }
         }
        },
        "title": {
         "text": "Target vs Feature distributions"
        },
        "width": 1000,
        "xaxis": {
         "anchor": "y",
         "domain": [
          0,
          0.45
         ]
        },
        "xaxis2": {
         "anchor": "y2",
         "domain": [
          0.55,
          1
         ]
        },
        "xaxis3": {
         "anchor": "y3",
         "domain": [
          0,
          0.45
         ]
        },
        "xaxis4": {
         "anchor": "y4",
         "domain": [
          0.55,
          1
         ]
        },
        "xaxis5": {
         "anchor": "y5",
         "domain": [
          0,
          0.45
         ]
        },
        "xaxis6": {
         "anchor": "y6",
         "domain": [
          0.55,
          1
         ]
        },
        "xaxis7": {
         "anchor": "y7",
         "domain": [
          0,
          0.45
         ]
        },
        "xaxis8": {
         "anchor": "y8",
         "domain": [
          0.55,
          1
         ]
        },
        "yaxis": {
         "anchor": "x",
         "domain": [
          0.80625,
          1
         ]
        },
        "yaxis2": {
         "anchor": "x2",
         "domain": [
          0.80625,
          1
         ]
        },
        "yaxis3": {
         "anchor": "x3",
         "domain": [
          0.5375,
          0.73125
         ]
        },
        "yaxis4": {
         "anchor": "x4",
         "domain": [
          0.5375,
          0.73125
         ]
        },
        "yaxis5": {
         "anchor": "x5",
         "domain": [
          0.26875,
          0.4625
         ]
        },
        "yaxis6": {
         "anchor": "x6",
         "domain": [
          0.26875,
          0.4625
         ]
        },
        "yaxis7": {
         "anchor": "x7",
         "domain": [
          0,
          0.19375
         ]
        },
        "yaxis8": {
         "anchor": "x8",
         "domain": [
          0,
          0.19375
         ]
        }
       }
      }
     },
     "metadata": {},
     "output_type": "display_data"
    },
    {
     "data": {
      "text/html": [
       "<div>\n",
       "<style scoped>\n",
       "    .dataframe tbody tr th:only-of-type {\n",
       "        vertical-align: middle;\n",
       "    }\n",
       "\n",
       "    .dataframe tbody tr th {\n",
       "        vertical-align: top;\n",
       "    }\n",
       "\n",
       "    .dataframe thead th {\n",
       "        text-align: right;\n",
       "    }\n",
       "</style>\n",
       "<table border=\"1\" class=\"dataframe\">\n",
       "  <thead>\n",
       "    <tr style=\"text-align: right;\">\n",
       "      <th></th>\n",
       "      <th>size</th>\n",
       "      <th>rooms_2</th>\n",
       "      <th>rooms_3</th>\n",
       "      <th>rooms_4</th>\n",
       "      <th>rooms_5</th>\n",
       "      <th>rooms_6</th>\n",
       "      <th>rooms_7</th>\n",
       "      <th>rooms_8</th>\n",
       "      <th>neighbourhood_Białołęka</th>\n",
       "      <th>neighbourhood_Bielany</th>\n",
       "      <th>...</th>\n",
       "      <th>neighbourhood_Targówek</th>\n",
       "      <th>neighbourhood_Ursus</th>\n",
       "      <th>neighbourhood_Ursynów</th>\n",
       "      <th>neighbourhood_Wawer</th>\n",
       "      <th>neighbourhood_Wesoła</th>\n",
       "      <th>neighbourhood_Wilanów</th>\n",
       "      <th>neighbourhood_Wola</th>\n",
       "      <th>neighbourhood_Włochy</th>\n",
       "      <th>neighbourhood_Śródmieście</th>\n",
       "      <th>neighbourhood_Żoliborz</th>\n",
       "    </tr>\n",
       "  </thead>\n",
       "  <tbody>\n",
       "    <tr>\n",
       "      <th>0</th>\n",
       "      <td>-0.108229</td>\n",
       "      <td>False</td>\n",
       "      <td>True</td>\n",
       "      <td>False</td>\n",
       "      <td>False</td>\n",
       "      <td>False</td>\n",
       "      <td>False</td>\n",
       "      <td>False</td>\n",
       "      <td>False</td>\n",
       "      <td>False</td>\n",
       "      <td>...</td>\n",
       "      <td>False</td>\n",
       "      <td>False</td>\n",
       "      <td>False</td>\n",
       "      <td>False</td>\n",
       "      <td>False</td>\n",
       "      <td>False</td>\n",
       "      <td>False</td>\n",
       "      <td>False</td>\n",
       "      <td>False</td>\n",
       "      <td>False</td>\n",
       "    </tr>\n",
       "    <tr>\n",
       "      <th>1</th>\n",
       "      <td>-0.341736</td>\n",
       "      <td>True</td>\n",
       "      <td>False</td>\n",
       "      <td>False</td>\n",
       "      <td>False</td>\n",
       "      <td>False</td>\n",
       "      <td>False</td>\n",
       "      <td>False</td>\n",
       "      <td>False</td>\n",
       "      <td>False</td>\n",
       "      <td>...</td>\n",
       "      <td>False</td>\n",
       "      <td>False</td>\n",
       "      <td>False</td>\n",
       "      <td>False</td>\n",
       "      <td>False</td>\n",
       "      <td>False</td>\n",
       "      <td>False</td>\n",
       "      <td>False</td>\n",
       "      <td>False</td>\n",
       "      <td>False</td>\n",
       "    </tr>\n",
       "    <tr>\n",
       "      <th>2</th>\n",
       "      <td>-0.108229</td>\n",
       "      <td>False</td>\n",
       "      <td>True</td>\n",
       "      <td>False</td>\n",
       "      <td>False</td>\n",
       "      <td>False</td>\n",
       "      <td>False</td>\n",
       "      <td>False</td>\n",
       "      <td>False</td>\n",
       "      <td>False</td>\n",
       "      <td>...</td>\n",
       "      <td>False</td>\n",
       "      <td>False</td>\n",
       "      <td>False</td>\n",
       "      <td>False</td>\n",
       "      <td>False</td>\n",
       "      <td>False</td>\n",
       "      <td>False</td>\n",
       "      <td>False</td>\n",
       "      <td>False</td>\n",
       "      <td>False</td>\n",
       "    </tr>\n",
       "    <tr>\n",
       "      <th>3</th>\n",
       "      <td>-0.588854</td>\n",
       "      <td>True</td>\n",
       "      <td>False</td>\n",
       "      <td>False</td>\n",
       "      <td>False</td>\n",
       "      <td>False</td>\n",
       "      <td>False</td>\n",
       "      <td>False</td>\n",
       "      <td>False</td>\n",
       "      <td>False</td>\n",
       "      <td>...</td>\n",
       "      <td>False</td>\n",
       "      <td>False</td>\n",
       "      <td>False</td>\n",
       "      <td>False</td>\n",
       "      <td>False</td>\n",
       "      <td>False</td>\n",
       "      <td>False</td>\n",
       "      <td>False</td>\n",
       "      <td>False</td>\n",
       "      <td>False</td>\n",
       "    </tr>\n",
       "    <tr>\n",
       "      <th>4</th>\n",
       "      <td>0.156719</td>\n",
       "      <td>False</td>\n",
       "      <td>True</td>\n",
       "      <td>False</td>\n",
       "      <td>False</td>\n",
       "      <td>False</td>\n",
       "      <td>False</td>\n",
       "      <td>False</td>\n",
       "      <td>False</td>\n",
       "      <td>False</td>\n",
       "      <td>...</td>\n",
       "      <td>False</td>\n",
       "      <td>False</td>\n",
       "      <td>False</td>\n",
       "      <td>False</td>\n",
       "      <td>False</td>\n",
       "      <td>False</td>\n",
       "      <td>False</td>\n",
       "      <td>False</td>\n",
       "      <td>False</td>\n",
       "      <td>False</td>\n",
       "    </tr>\n",
       "  </tbody>\n",
       "</table>\n",
       "<p>5 rows × 24 columns</p>\n",
       "</div>"
      ],
      "text/plain": [
       "       size  rooms_2  rooms_3  rooms_4  rooms_5  rooms_6  rooms_7  rooms_8  \\\n",
       "0 -0.108229    False     True    False    False    False    False    False   \n",
       "1 -0.341736     True    False    False    False    False    False    False   \n",
       "2 -0.108229    False     True    False    False    False    False    False   \n",
       "3 -0.588854     True    False    False    False    False    False    False   \n",
       "4  0.156719    False     True    False    False    False    False    False   \n",
       "\n",
       "   neighbourhood_Białołęka  neighbourhood_Bielany  ...  \\\n",
       "0                    False                  False  ...   \n",
       "1                    False                  False  ...   \n",
       "2                    False                  False  ...   \n",
       "3                    False                  False  ...   \n",
       "4                    False                  False  ...   \n",
       "\n",
       "   neighbourhood_Targówek  neighbourhood_Ursus  neighbourhood_Ursynów  \\\n",
       "0                   False                False                  False   \n",
       "1                   False                False                  False   \n",
       "2                   False                False                  False   \n",
       "3                   False                False                  False   \n",
       "4                   False                False                  False   \n",
       "\n",
       "   neighbourhood_Wawer  neighbourhood_Wesoła  neighbourhood_Wilanów  \\\n",
       "0                False                 False                  False   \n",
       "1                False                 False                  False   \n",
       "2                False                 False                  False   \n",
       "3                False                 False                  False   \n",
       "4                False                 False                  False   \n",
       "\n",
       "   neighbourhood_Wola  neighbourhood_Włochy  neighbourhood_Śródmieście  \\\n",
       "0               False                 False                      False   \n",
       "1               False                 False                      False   \n",
       "2               False                 False                      False   \n",
       "3               False                 False                      False   \n",
       "4               False                 False                      False   \n",
       "\n",
       "   neighbourhood_Żoliborz  \n",
       "0                   False  \n",
       "1                   False  \n",
       "2                   False  \n",
       "3                   False  \n",
       "4                   False  \n",
       "\n",
       "[5 rows x 24 columns]"
      ]
     },
     "metadata": {},
     "output_type": "display_data"
    },
    {
     "name": "stdout",
     "output_type": "stream",
     "text": [
      "[1364424.19929407 1188160.89142115 9859462.75776534 1037300.98323051\n",
      " 1495772.42762837 1617820.01310907 1288034.90201075 1024728.71156232\n",
      " 1157512.79724587  622467.07134299 1024728.71156232 1139221.27875922\n",
      " 3946567.33246739  844787.45722243  853004.11545173  660658.2603537\n",
      "  187525.71806321 1055380.00845434  659014.82235209  810766.37043235\n",
      "  961982.96861692 3050149.37715542  437362.36258586 2526205.53240039\n",
      " 2122129.16695894 2159373.7123861   798872.82215227  493718.3580545\n",
      " 2182938.04289599 1364424.19929407 1600951.04837769 1325504.77402571\n",
      "  715369.41561958  417965.8622311  2675870.94312805 1036944.29323658\n",
      "  289500.30522183  627683.62697173 1655275.21188757 1158455.83215915\n",
      "  494722.83132947 1309447.96357271  656740.61509865  627683.62697173\n",
      " 1392615.99591178 1617820.01310907 1221903.05317037 1093613.56148772\n",
      " 1405090.48776593 1245124.42800525  777715.83920588 1344042.79417781\n",
      "  945998.31061414 1444317.81545645] 316605529669.16754 0.6703384434842696\n"
     ]
    },
    {
     "data": {
      "image/png": "[encoded data removed]",
      "text/plain": [
       "<Figure size 640x480 with 2 Axes>"
      ]
     },
     "metadata": {},
     "output_type": "display_data"
    }
   ],
   "source": [
    "cols = ['price', 'size', 'rooms', 'neighbourhood']\n",
    "df_copy = df_copy[cols]\n",
    "df_copy['rooms'] = df_copy['rooms'].apply(lambda x : str(x))\n",
    "\n",
    "#Use plotly to create a figure with n rows and 2 columns\n",
    "fig = make_subplots(rows=df_copy.shape[1], cols=2)\n",
    "\n",
    "#Create a loop for histogram plots\n",
    "for i, col in enumerate(df_copy.columns):\n",
    "    fig.add_trace(go.Histogram(x=df_copy[col], name=col), row=i+1, col=1)\n",
    "\n",
    "#Create a loop for box plots\n",
    "for i, col in enumerate(df_copy.columns):\n",
    "    fig.add_trace(go.Box(x=df_copy[col], name=col), row=i+1, col=2)\n",
    "\n",
    "#Adjust the height, width, and title of the layout\n",
    "fig.update_layout(height=200 * df_copy.shape[1], width=1000, title_text=\"Target vs Feature distributions\")\n",
    "fig.show()\n",
    "\n",
    "housing_corr = df_copy.corr(numeric_only = True)\n",
    "housing_corr.style.background_gradient(cmap='RdYlGn').format('{:,.2f}')\n",
    "\n",
    "mask = np.zeros_like(housing_corr)\n",
    "mask[np.triu_indices_from(mask)] = True\n",
    "\n",
    "sns.heatmap(housing_corr, mask=mask, annot=True, cmap='RdYlGn')\n",
    "\n",
    "num = df_copy.select_dtypes(np.number).drop('price', axis=1)\n",
    "num_scaled = pd.DataFrame(StandardScaler().fit_transform(num), columns=num.columns)\n",
    "\n",
    "cat = df_copy.select_dtypes(object)\n",
    "cat_encoded = pd.get_dummies(cat, drop_first=True)\n",
    "\n",
    "df_copy_processed = pd.concat([num_scaled, cat_encoded], axis=1)\n",
    "display(df_copy_processed.head())\n",
    "\n",
    "X = df_copy_processed\n",
    "y = df_copy['price']\n",
    "\n",
    "X_train, X_test, y_train, y_test = train_test_split(X, y, test_size=0.2, random_state=2)\n",
    "\n",
    "model = linear_model.LinearRegression()\n",
    "result = model.fit(X_train, y_train)\n",
    "\n",
    "pred = model.predict(X_test)\n",
    "mse = mean_squared_error(y_test, pred)\n",
    "r2 = r2_score(y_test, pred)\n",
    "\n",
    "print(pred, mse, r2)"
   ]
  },
  {
   "cell_type": "code",
   "execution_count": 170,
   "metadata": {},
   "outputs": [],
   "source": [
    "def predictions_multiple_linear(input_size, rooms, neighbourhood):\n",
    "    \n",
    "    inputs = {\n",
    "    'size': input_size,  \n",
    "}\n",
    "\n",
    "    for i in range(2, 9):\n",
    "        inputs[f'rooms_{i}'] = False\n",
    "    if rooms > 1 :\n",
    "        inputs[f'rooms_{rooms}'] = True\n",
    "\n",
    "    neighbourhoods = pd.read_csv('warsaw_neighbourhood.csv')\n",
    "    neighbourhoods = list(neighbourhoods['Name Sort data by column'])\n",
    "    neighbourhoods.remove('Bemowo')\n",
    "    for neighb in neighbourhoods:\n",
    "        inputs[f'neighbourhood_{neighb}'] = False\n",
    "    if neighbourhood != 'Bemowo':\n",
    "        inputs[f'neighbourhood_{neighbourhood}'] = True\n",
    "\n",
    "    # Create a DataFrame from user input\n",
    "    df_inputs = pd.DataFrame([inputs])\n",
    "\n",
    "    # Use the trained model to make predictions\n",
    "    predicted_price = model.predict(df_inputs)\n",
    "\n",
    "    # Print the predicted price\n",
    "    return(f\"Predicted Price: {round(predicted_price[0], 2)}zl\")"
   ]
  },
  {
   "cell_type": "code",
   "execution_count": 172,
   "metadata": {},
   "outputs": [
    {
     "data": {
      "text/plain": [
       "'Predicted Price: 114286822.38zl'"
      ]
     },
     "execution_count": 172,
     "metadata": {},
     "output_type": "execute_result"
    }
   ],
   "source": [
    "predictions_multiple_linear(100, 2, 'Wola')"
   ]
  },
  {
   "cell_type": "markdown",
   "metadata": {},
   "source": [
    "Need more time to investigate here and understand the results"
   ]
  },
  {
   "cell_type": "markdown",
   "metadata": {},
   "source": [
    "# **User interfaces in tkinter for simple linear regression**"
   ]
  },
  {
   "cell_type": "markdown",
   "metadata": {},
   "source": [
    "## Price indicator"
   ]
  },
  {
   "cell_type": "code",
   "execution_count": 15,
   "metadata": {},
   "outputs": [],
   "source": [
    "#Tkinter interface 1\n",
    "\n",
    "#Function for the button\n",
    "def button():\n",
    "    selected_neighbourhood = neighbourhood.get()\n",
    "    input1_value = input1.get()\n",
    "    input2_value = input2.get()\n",
    "    output = price_analysis_app(selected_neighbourhood, int(input1_value), int(input2_value))\n",
    "    result_label.config(text=output)\n",
    "    \n",
    "#Function that will give the result\n",
    "def price_analysis_app (neighbourhood_input, price_input, size_input):\n",
    "    linear_reg = linear_reg_neigbourhood_score(df_housing, neighbourhood_input) #Mokotów\n",
    "    score, intercept, coef = linear_reg[0], linear_reg[1], linear_reg[2]\n",
    "    prediction_price = intercept + coef * size_input\n",
    "    \n",
    "    #As running the master data set and this function several time, I have noticed a few thing that we need to handle for the user.\n",
    "    #The score change everytime we add data, so it might be that somethime the score is too low for good prediction\n",
    "    #Sometimes we do not have enought data to run the linear regression\n",
    "\n",
    "    if type(score) == np.float64:\n",
    "        if score > 0.75 :\n",
    "            if price_input < prediction_price[0]:\n",
    "                return('This flat is below price market.')\n",
    "            else:\n",
    "                return('This flat is above price market.')\n",
    "        \n",
    "        elif score < 0.75 and score > 0.5 : \n",
    "            if price_input < prediction_price[0]:\n",
    "                return('This flat might be below price market.')\n",
    "            else:\n",
    "                return('This flat might be above price market.')\n",
    "        else :\n",
    "            return ('We do not have enought data or good enought data to conclude on this district')\n",
    "    else :\n",
    "        return ('We do not have enought data or good enought data to conclude on this district')\n",
    "    \n",
    "#Tkinter window\n",
    "app = tk.Tk()\n",
    "app.title(\"Housing price indicator\")\n",
    "\n",
    "#Dropdown menu with Warsaw neighnourhoods\n",
    "neighbourhoods = pd.read_csv('warsaw_neighbourhood.csv')\n",
    "neighbourhoods = list(neighbourhoods['Name Sort data by column'])\n",
    "\n",
    "neighbourhood_label = tk.Label(app, text=\"Select a neighbourhood:\")\n",
    "neighbourhood_label.pack()\n",
    "\n",
    "neighbourhood = tk.StringVar(value=neighbourhoods[0])\n",
    "neighbourhood_dropdown = ttk.Combobox(app, textvariable=neighbourhood, values=neighbourhoods)\n",
    "neighbourhood_dropdown.pack()\n",
    "\n",
    "#Price input\n",
    "input1_label = tk.Label(app, text=\"Price witnessed :\")\n",
    "input1_label.pack()\n",
    "input1 = tk.Entry(app)\n",
    "input1.pack()\n",
    "\n",
    "#Size input\n",
    "input2_label = tk.Label(app, text=\"Size witnessed:\")\n",
    "input2_label.pack()\n",
    "input2 = tk.Entry(app)\n",
    "input2.pack()\n",
    "\n",
    "#Button\n",
    "button = tk.Button(app, text=\"Send for checking\", command=button)\n",
    "button.pack()\n",
    "\n",
    "#Result\n",
    "result_label = tk.Label(app, text='Waiting for inputs')\n",
    "result_label.pack()\n",
    "\n",
    "app.mainloop()"
   ]
  },
  {
   "cell_type": "markdown",
   "metadata": {},
   "source": [
    "## Price estimator"
   ]
  },
  {
   "cell_type": "code",
   "execution_count": 11,
   "metadata": {},
   "outputs": [],
   "source": [
    "#Tkinter interface 2\n",
    "\n",
    "#Function for the button\n",
    "def button():\n",
    "    selected_neighbourhood = neighbourhood.get()\n",
    "    input1_value = input1.get()\n",
    "    output = market_price(selected_neighbourhood, int(input1_value))\n",
    "    result_label.config(text=output)\n",
    "\n",
    "#Function that will give the result\n",
    "def market_price (neighbourhood_input, size_input):\n",
    "    linear_reg = linear_reg_neigbourhood_score(df_housing, neighbourhood_input)\n",
    "    intercept, coef = linear_reg[1], linear_reg[2]\n",
    "    prediction_price = intercept + coef * size_input\n",
    "    prediction_price = round(prediction_price[0])\n",
    "    return str(prediction_price) + 'zl'\n",
    "    \n",
    "#Tkinter window\n",
    "app = tk.Tk()\n",
    "app.title(\"Housing price estimator\")\n",
    "\n",
    "#Dropdown menu with Warsaw neighnourhoods\n",
    "neighbourhoods = pd.read_csv('warsaw_neighbourhood.csv')\n",
    "neighbourhoods = list(neighbourhoods['Name Sort data by column'])\n",
    "\n",
    "neighbourhood_label = tk.Label(app, text=\"Neighbourhood you live:\")\n",
    "neighbourhood_label.pack()\n",
    "\n",
    "neighbourhood = tk.StringVar(value=neighbourhoods[0])\n",
    "neighbourhood_dropdown = ttk.Combobox(app, textvariable=neighbourhood, values=neighbourhoods)\n",
    "neighbourhood_dropdown.pack()\n",
    "\n",
    "#Size input\n",
    "input1_label = tk.Label(app, text=\"Size of your flat:\")\n",
    "input1_label.pack()\n",
    "input1 = tk.Entry(app)\n",
    "input1.pack()\n",
    "\n",
    "#Button\n",
    "button = tk.Button(app, text=\"Send for checking\", command=button)\n",
    "button.pack()\n",
    "\n",
    "#Result\n",
    "result_label = tk.Label(app, text='Waiting for inputs')\n",
    "result_label.pack()\n",
    "\n",
    "app.mainloop()"
   ]
  }
 ],
 "metadata": {
  "kernelspec": {
   "display_name": "mid-bootcamp-project-env",
   "language": "python",
   "name": "python3"
  },
  "language_info": {
   "codemirror_mode": {
    "name": "ipython",
    "version": 3
   },
   "file_extension": ".py",
   "mimetype": "text/x-python",
   "name": "python",
   "nbconvert_exporter": "python",
   "pygments_lexer": "ipython3",
   "version": "3.11.5"
  }
 },
 "nbformat": 4,
 "nbformat_minor": 2
}
